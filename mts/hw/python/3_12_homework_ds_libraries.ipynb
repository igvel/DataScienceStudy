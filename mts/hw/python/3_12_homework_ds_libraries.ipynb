{
 "cells": [
  {
   "cell_type": "markdown",
   "metadata": {
    "colab_type": "text",
    "deletable": false,
    "editable": false,
    "id": "uuX1yAb2q8qD",
    "nbgrader": {
     "cell_type": "markdown",
     "checksum": "2e80ddd1fac6b3e313383c752a2bc5c0",
     "grade": false,
     "grade_id": "cell-aeb3f125270951ed",
     "locked": true,
     "schema_version": 3,
     "solution": false,
     "task": false
    }
   },
   "source": [
    "# Домашнее задание\n",
    "\n",
    "В данном задании предлагается решить несколько задач на использование функций библиотек `numpy`, `matplotlib` и `pandas`.\n",
    "Во всех заданиях предполагается, что все аргументы функций, которые нужно реализовать, имеют тип `numpy.array` либо являются числами. Возвращать нужно также либо `numpy.array`, либо число. Кроме того, предполагается, что все аргументы корректны, и проверять их на корректность не нужно.\n",
    "\n",
    "При реализации запрещается пользоваться любыми циклами, в том числе стандартными функциями языка, которые заменяют циклы. Можно использовать любые функции библиотек `numpy`."
   ]
  },
  {
   "cell_type": "code",
   "execution_count": 1,
   "metadata": {
    "colab": {},
    "colab_type": "code",
    "deletable": false,
    "editable": false,
    "id": "JxwxYkHRq8qG",
    "nbgrader": {
     "cell_type": "code",
     "checksum": "b4182dc2269011a99dd6aed44ce2a1b8",
     "grade": false,
     "grade_id": "cell-93a941a9dac2485c",
     "locked": true,
     "schema_version": 3,
     "solution": false,
     "task": false
    }
   },
   "outputs": [],
   "source": [
    "import numpy as np\n",
    "import matplotlib.pyplot as plt\n",
    "import pandas as pd\n",
    "\n",
    "%matplotlib inline"
   ]
  },
  {
   "cell_type": "markdown",
   "metadata": {
    "colab_type": "text",
    "deletable": false,
    "editable": false,
    "id": "FeOZHAyLytZJ",
    "nbgrader": {
     "cell_type": "markdown",
     "checksum": "bc8b3fcf82358540e4ace36f4fd77c0a",
     "grade": false,
     "grade_id": "cell-97cbb0841e4f8e24",
     "locked": true,
     "schema_version": 3,
     "solution": false,
     "task": false
    }
   },
   "source": [
    "# Задача 1."
   ]
  },
  {
   "cell_type": "markdown",
   "metadata": {
    "colab_type": "text",
    "deletable": false,
    "editable": false,
    "id": "xKtknDXQwL76",
    "nbgrader": {
     "cell_type": "markdown",
     "checksum": "ae8552c179592fccc3e32d5bd7bcec9d",
     "grade": false,
     "grade_id": "cell-2fbf41d4c53b6a42",
     "locked": true,
     "schema_version": 3,
     "solution": false,
     "task": false
    }
   },
   "source": [
    "**Задача 1.** Индексация массивов. Необходимо написать функцию, которая создает матрицу размера NxN, N > 1 следующим образом: \n",
    "все крайние элементы равны 1, а все остальные (внутренние) равны 0.\n",
    "В данной задаче не требуется написать решение одной операцией или в одну строку, но требуется использовать функционал `numpy`\n",
    "\n",
    "Ожидаемый вывод при n=5:\n",
    "```\n",
    "array([[1., 1., 1., 1., 1.],\n",
    "       [1., 0., 0., 0., 1.],\n",
    "       [1., 0., 0., 0., 1.],\n",
    "       [1., 0., 0., 0., 1.],\n",
    "       [1., 1., 1., 1., 1.]])\n",
    "```\n"
   ]
  },
  {
   "cell_type": "code",
   "execution_count": 2,
   "metadata": {
    "colab": {
     "base_uri": "https://localhost:8080/",
     "height": 102
    },
    "colab_type": "code",
    "deletable": false,
    "id": "bcq89oY5nAWy",
    "nbgrader": {
     "cell_type": "code",
     "checksum": "7f314700373577d2c86fb2d03580494f",
     "grade": false,
     "grade_id": "cell-e198575283f6df85",
     "locked": false,
     "schema_version": 3,
     "solution": true,
     "task": false
    },
    "outputId": "e72ea2bc-4912-4bec-c6d4-19a3012275c1"
   },
   "outputs": [],
   "source": [
    "def create_boarded_array(n):\n",
    "    '''\n",
    "    Функция создает np.array, у которого крайние элементы = 1, остальные = 0.\n",
    "    '''\n",
    "    arr = np.zeros((n,n))\n",
    "    arr[[0,n-1],:] = 1\n",
    "    arr[:,[0,n-1]] = 1\n",
    "    return arr"
   ]
  },
  {
   "cell_type": "code",
   "execution_count": 3,
   "metadata": {
    "deletable": false,
    "editable": false,
    "nbgrader": {
     "cell_type": "code",
     "checksum": "67fd206cf8cc34401b57d48b4cca3bf4",
     "grade": true,
     "grade_id": "cell-8a0bb9adebbcd31b",
     "locked": true,
     "points": 2,
     "schema_version": 3,
     "solution": false,
     "task": false
    }
   },
   "outputs": [],
   "source": [
    "ans = np.array([[1., 1., 1.], \n",
    "                [1., 0., 1.],\n",
    "                [1., 1., 1.]])\n",
    "\n",
    "assert (ans == create_boarded_array(3)).all(), \"Неправильный вывод при n=3\"\n"
   ]
  },
  {
   "cell_type": "markdown",
   "metadata": {
    "colab_type": "text",
    "deletable": false,
    "editable": false,
    "id": "r5yqwnQ3y1xt",
    "nbgrader": {
     "cell_type": "markdown",
     "checksum": "a194ee7a30d669f7f32d89eee04ce0e4",
     "grade": false,
     "grade_id": "cell-500927d9c0fba875",
     "locked": true,
     "schema_version": 3,
     "solution": false,
     "task": false
    }
   },
   "source": [
    "# Задача 2."
   ]
  },
  {
   "cell_type": "markdown",
   "metadata": {
    "colab_type": "text",
    "deletable": false,
    "editable": false,
    "id": "ZsoipL9QyR48",
    "nbgrader": {
     "cell_type": "markdown",
     "checksum": "789d5d10376bcfc61175b87731edb871",
     "grade": false,
     "grade_id": "cell-6d741c870f9b453e",
     "locked": true,
     "schema_version": 3,
     "solution": false,
     "task": false
    }
   },
   "source": [
    "\n",
    "**Задача 2.** Создать массив \"шахматная доска\" - размер nхn, где на месте белых клеток находятся единицы, а на месте черных клеток - нули. В верхней левой клетке всегда стоит 1.\n",
    "\n",
    "Ожидаемый результат при n = 8:\n",
    "```\n",
    "[[1 0 1 0 1 0 1 0]\n",
    " [0 1 0 1 0 1 0 1]\n",
    " [1 0 1 0 1 0 1 0]\n",
    " [0 1 0 1 0 1 0 1]\n",
    " [1 0 1 0 1 0 1 0]\n",
    " [0 1 0 1 0 1 0 1]\n",
    " [1 0 1 0 1 0 1 0]\n",
    " [0 1 0 1 0 1 0 1]]\n",
    " ```\n"
   ]
  },
  {
   "cell_type": "code",
   "execution_count": 4,
   "metadata": {
    "colab": {
     "base_uri": "https://localhost:8080/",
     "height": 153
    },
    "colab_type": "code",
    "deletable": false,
    "id": "mOKWF66Dna9D",
    "nbgrader": {
     "cell_type": "code",
     "checksum": "a36dda7a85db370af66b39544baad48a",
     "grade": false,
     "grade_id": "cell-54ec553546015abc",
     "locked": false,
     "schema_version": 3,
     "solution": true,
     "task": false
    },
    "outputId": "f8567770-3849-4dae-b158-cc98abf8bdd6"
   },
   "outputs": [],
   "source": [
    "def chess_table(n):\n",
    "    arr = np.ones((n,n))\n",
    "    arr[0:n:2,1:n:2] = 0\n",
    "    arr[1:n:2,0:n:2] = 0\n",
    "    return arr"
   ]
  },
  {
   "cell_type": "code",
   "execution_count": 5,
   "metadata": {
    "deletable": false,
    "editable": false,
    "nbgrader": {
     "cell_type": "code",
     "checksum": "b60f7ab9b1a19010d04f2ba9c3da86d5",
     "grade": true,
     "grade_id": "cell-e035fcb0ad085383",
     "locked": true,
     "points": 3,
     "schema_version": 3,
     "solution": false,
     "task": false
    }
   },
   "outputs": [],
   "source": [
    "ans = np.array([[1., 0., 1., 0., 1.],\n",
    "               [0., 1., 0., 1., 0.],\n",
    "               [1., 0., 1., 0., 1.],\n",
    "               [0., 1., 0., 1., 0.],\n",
    "               [1., 0., 1., 0., 1.]])\n",
    "\n",
    "assert (chess_table(5) == ans).all(), 'Неправильный ответ при n=5'\n"
   ]
  },
  {
   "cell_type": "markdown",
   "metadata": {
    "colab_type": "text",
    "deletable": false,
    "editable": false,
    "id": "fIsINCpzxL3c",
    "nbgrader": {
     "cell_type": "markdown",
     "checksum": "5125ac67ee74e92619a14ff70cb48f85",
     "grade": false,
     "grade_id": "cell-53f5f2cdce9a688b",
     "locked": true,
     "schema_version": 3,
     "solution": false,
     "task": false
    }
   },
   "source": [
    "# Задача 3."
   ]
  },
  {
   "cell_type": "markdown",
   "metadata": {
    "deletable": false,
    "editable": false,
    "nbgrader": {
     "cell_type": "markdown",
     "checksum": "4bf762b1b9b4a136df85e92886f6c794",
     "grade": false,
     "grade_id": "cell-b64618ed41113027",
     "locked": true,
     "schema_version": 3,
     "solution": false,
     "task": false
    }
   },
   "source": [
    "Имеется массив prices с ценами на нефть с 1989 по 2015 годы."
   ]
  },
  {
   "cell_type": "code",
   "execution_count": 6,
   "metadata": {
    "deletable": false,
    "editable": false,
    "nbgrader": {
     "cell_type": "code",
     "checksum": "b7d0788e37a08379df997acf54fc8856",
     "grade": false,
     "grade_id": "cell-5b9637f9cf2be35d",
     "locked": true,
     "schema_version": 3,
     "solution": false,
     "task": false
    }
   },
   "outputs": [],
   "source": [
    "prices = np.array([18.2, 23.7, 20.0, 19.3, 17.0, 15.8, 17.0, 20.6, 19.1, 12.8, 17.8,\n",
    "                  28.5, 24.4, 24.9, 28.5, 37.9, 55.1, 66.0, 72.7, 98.4, 62.8, 80.2, 110.9, 109.5,\n",
    "                  108.8, 99.5, 53.7])"
   ]
  },
  {
   "cell_type": "markdown",
   "metadata": {
    "deletable": false,
    "editable": false,
    "nbgrader": {
     "cell_type": "markdown",
     "checksum": "5a9042587b88110ad7f9edd322a727a2",
     "grade": false,
     "grade_id": "cell-c65bf17beebbfaa6",
     "locked": true,
     "schema_version": 3,
     "solution": false,
     "task": false
    }
   },
   "source": [
    "**3.1** Напишите функцию, которая вернет 4 числа: минимальная цена на нефть, максимальная цена на нефть, средняя цена на нефть и стандартное отклонение цен. Все числа округлить до ближайшего целого."
   ]
  },
  {
   "cell_type": "code",
   "execution_count": 7,
   "metadata": {
    "deletable": false,
    "nbgrader": {
     "cell_type": "code",
     "checksum": "be3ee579d4705143c28abd3e2ab65daa",
     "grade": false,
     "grade_id": "cell-5d4f726af80ae061",
     "locked": false,
     "schema_version": 3,
     "solution": true,
     "task": false
    }
   },
   "outputs": [],
   "source": [
    "def get_stat(prices):\n",
    "    return (round(prices.min()), round(prices.max()), round(prices.mean()), round(prices.std()))"
   ]
  },
  {
   "cell_type": "code",
   "execution_count": 8,
   "metadata": {
    "deletable": false,
    "editable": false,
    "nbgrader": {
     "cell_type": "code",
     "checksum": "67e9a34ed381323d645e123b13111d9e",
     "grade": true,
     "grade_id": "cell-08ad1fe21bfcc4af",
     "locked": true,
     "points": 1,
     "schema_version": 3,
     "solution": false,
     "task": false
    }
   },
   "outputs": [],
   "source": [
    "assert np.isclose(13, get_stat(prices)[0]), 'Неправильно найдена минимальная цена'\n",
    "assert np.isclose(111, get_stat(prices)[1]), 'Неправильно найдена максимальная цена'\n"
   ]
  },
  {
   "cell_type": "markdown",
   "metadata": {
    "deletable": false,
    "editable": false,
    "nbgrader": {
     "cell_type": "markdown",
     "checksum": "832174c6e1ffc2957b3a6a51aec1ba76",
     "grade": false,
     "grade_id": "cell-07d47d48d3acb55b",
     "locked": true,
     "schema_version": 3,
     "solution": false,
     "task": false
    }
   },
   "source": [
    "**3.2** Постройте график для цен, по оси x отложены годы, по оси y отложены значений цен. Отобразите на графике все, что сочтете нужным (точки значений цены, подпись осей и т.д.)"
   ]
  },
  {
   "cell_type": "code",
   "execution_count": 9,
   "metadata": {
    "deletable": false,
    "nbgrader": {
     "cell_type": "code",
     "checksum": "3277f09a2ed9646375a31631ffb7786b",
     "grade": true,
     "grade_id": "cell-da8a758ced2643e9",
     "locked": false,
     "points": 1,
     "schema_version": 3,
     "solution": true,
     "task": false
    }
   },
   "outputs": [
    {
     "data": {
      "image/png": "[encoded data removed]",
      "text/plain": [
       "<Figure size 432x288 with 1 Axes>"
      ]
     },
     "metadata": {
      "needs_background": "light"
     },
     "output_type": "display_data"
    }
   ],
   "source": [
    "# YOUR CODE HERE\n",
    "years = np.arange(1989, 2016)\n",
    "plt.figure(figsize=(6, 4))\n",
    "plt.plot(years, prices, label=\"Цена на нефть, р\", marker='o')\n",
    "plt.xlabel(\"Годы\")\n",
    "plt.ylabel(\"Цена\")\n",
    "plt.legend(loc=\"lower right\")\n",
    "plt.show()"
   ]
  },
  {
   "cell_type": "markdown",
   "metadata": {
    "deletable": false,
    "editable": false,
    "nbgrader": {
     "cell_type": "markdown",
     "checksum": "5bc542277a4ffc52b7f45cf89663b3d7",
     "grade": false,
     "grade_id": "cell-3eee69255ac696b8",
     "locked": true,
     "schema_version": 3,
     "solution": false,
     "task": false
    }
   },
   "source": [
    "# Задача 4."
   ]
  },
  {
   "cell_type": "markdown",
   "metadata": {
    "colab_type": "text",
    "deletable": false,
    "editable": false,
    "id": "RnxMYMdbyJPt",
    "nbgrader": {
     "cell_type": "markdown",
     "checksum": "12fde3ddb1018b903a67e51a620e3b7e",
     "grade": false,
     "grade_id": "cell-021a0f0d90c8d3d2",
     "locked": true,
     "schema_version": 3,
     "solution": false,
     "task": false
    }
   },
   "source": [
    "**Задача 4.** Даны массивы `x` и `y`. Исользуя `matplotlib`, постройте на одном координатном поле две линии: \n",
    "1. $y = e^x$ - сплошную синюю линию\n",
    "2. $y = x$ - красную пунктирную линию\n",
    "3. добавьте точки данных на линии в виде маркеров\n",
    "4. добавьте координатную сетку на график\n",
    "5. добавьте легенду на график\n",
    "6. добавьте названия осей\n",
    "7. добавьте название графика (title) "
   ]
  },
  {
   "cell_type": "code",
   "execution_count": 10,
   "metadata": {
    "colab": {},
    "colab_type": "code",
    "deletable": false,
    "editable": false,
    "id": "Iq3WyYF2vxnD",
    "nbgrader": {
     "cell_type": "code",
     "checksum": "6168c7acda7d2f6321675d32dfbae7a4",
     "grade": false,
     "grade_id": "cell-494e12616c415070",
     "locked": true,
     "schema_version": 3,
     "solution": false,
     "task": false
    }
   },
   "outputs": [],
   "source": [
    "x = np.arange(1,4,0.1)"
   ]
  },
  {
   "cell_type": "code",
   "execution_count": 11,
   "metadata": {
    "colab": {
     "base_uri": "https://localhost:8080/",
     "height": 404
    },
    "colab_type": "code",
    "deletable": false,
    "id": "WMjW3Avs7BOO",
    "nbgrader": {
     "cell_type": "code",
     "checksum": "9b9821f82f66e4976f4550a8e7f34395",
     "grade": true,
     "grade_id": "cell-f5a4d713e6584974",
     "locked": false,
     "points": 2,
     "schema_version": 3,
     "solution": true,
     "task": false
    },
    "outputId": "a9e253ec-0798-47d1-fb35-949b86b9bb18"
   },
   "outputs": [
    {
     "data": {
      "image/png": "[encoded data removed]",
      "text/plain": [
       "<Figure size 432x288 with 1 Axes>"
      ]
     },
     "metadata": {
      "needs_background": "light"
     },
     "output_type": "display_data"
    }
   ],
   "source": [
    "y1 = np.e**x\n",
    "y2 = x\n",
    "plt.figure(figsize=(6, 4))\n",
    "plt.plot(x, y1, 'bo-', label=\"$y=e^{x}$\")\n",
    "plt.plot(x, y2, 'r|--', label=\"$y=x$\")\n",
    "plt.xlabel(\"X\")\n",
    "plt.ylabel(\"Y\")\n",
    "plt.legend(loc=\"upper left\")\n",
    "plt.title(\"Графики\")\n",
    "plt.grid()\n",
    "plt.show()"
   ]
  },
  {
   "cell_type": "markdown",
   "metadata": {
    "colab_type": "text",
    "deletable": false,
    "editable": false,
    "id": "g9QTm_bBr4ls",
    "nbgrader": {
     "cell_type": "markdown",
     "checksum": "7905840942bf85c9133994fe0efc0c86",
     "grade": false,
     "grade_id": "cell-0d2764e3ee2f7972",
     "locked": true,
     "schema_version": 3,
     "solution": false,
     "task": false
    }
   },
   "source": [
    "# Задача 5."
   ]
  },
  {
   "cell_type": "markdown",
   "metadata": {
    "deletable": false,
    "editable": false,
    "nbgrader": {
     "cell_type": "markdown",
     "checksum": "e606cef9b1770500ebab4443c1bb43fe",
     "grade": false,
     "grade_id": "cell-8823c7f2a0bde23a",
     "locked": true,
     "schema_version": 3,
     "solution": false,
     "task": false
    }
   },
   "source": [
    "**5.1** Считайте датасет 'Boston.csv'. Подробное описание колонок датасета можно найти тут https://www.kaggle.com/c/boston-housing\n",
    "\n",
    "**Внимание:** первая колонка датасета - индексы, считайте таблицу так, чтобы индексация шла по ней (используйте аргумент index_col). От этого будет зависеть индексация в следующих заданиях."
   ]
  },
  {
   "cell_type": "code",
   "execution_count": 12,
   "metadata": {
    "colab": {},
    "colab_type": "code",
    "deletable": false,
    "id": "2oWujfRom947",
    "nbgrader": {
     "cell_type": "code",
     "checksum": "30031bdce57b152a2e164db0cc1392a0",
     "grade": false,
     "grade_id": "cell-7f8291dd6088aea1",
     "locked": false,
     "schema_version": 3,
     "solution": true,
     "task": false
    }
   },
   "outputs": [],
   "source": [
    "# YOUR CODE HERE\n",
    "df = pd.read_csv('Boston.csv', index_col=0)"
   ]
  },
  {
   "cell_type": "code",
   "execution_count": 13,
   "metadata": {
    "deletable": false,
    "editable": false,
    "nbgrader": {
     "cell_type": "code",
     "checksum": "d53aacf845465b45c6fc71c61151cf4d",
     "grade": true,
     "grade_id": "cell-612b98fd83de8549",
     "locked": true,
     "points": 1,
     "schema_version": 3,
     "solution": false,
     "task": false
    }
   },
   "outputs": [],
   "source": [
    "assert (len(df)) == 506\n"
   ]
  },
  {
   "cell_type": "markdown",
   "metadata": {
    "deletable": false,
    "editable": false,
    "nbgrader": {
     "cell_type": "markdown",
     "checksum": "fc8df51f86df03f4c7a2777ff74bd406",
     "grade": false,
     "grade_id": "cell-ba6cf321b1fd676a",
     "locked": true,
     "schema_version": 3,
     "solution": false,
     "task": false
    }
   },
   "source": [
    "**5.2** Выведите размер таблицы и первые 5 строк"
   ]
  },
  {
   "cell_type": "code",
   "execution_count": 14,
   "metadata": {
    "deletable": false,
    "nbgrader": {
     "cell_type": "code",
     "checksum": "8a04567cba76afe96e622264c8594103",
     "grade": false,
     "grade_id": "cell-969f98e47bdc3f7c",
     "locked": false,
     "schema_version": 3,
     "solution": true,
     "task": false
    }
   },
   "outputs": [
    {
     "name": "stdout",
     "output_type": "stream",
     "text": [
      "(506, 14)\n"
     ]
    },
    {
     "data": {
      "text/html": [
       "<div>\n",
       "<style scoped>\n",
       "    .dataframe tbody tr th:only-of-type {\n",
       "        vertical-align: middle;\n",
       "    }\n",
       "\n",
       "    .dataframe tbody tr th {\n",
       "        vertical-align: top;\n",
       "    }\n",
       "\n",
       "    .dataframe thead th {\n",
       "        text-align: right;\n",
       "    }\n",
       "</style>\n",
       "<table border=\"1\" class=\"dataframe\">\n",
       "  <thead>\n",
       "    <tr style=\"text-align: right;\">\n",
       "      <th></th>\n",
       "      <th>crim</th>\n",
       "      <th>zn</th>\n",
       "      <th>indus</th>\n",
       "      <th>chas</th>\n",
       "      <th>nox</th>\n",
       "      <th>rm</th>\n",
       "      <th>age</th>\n",
       "      <th>dis</th>\n",
       "      <th>rad</th>\n",
       "      <th>tax</th>\n",
       "      <th>ptratio</th>\n",
       "      <th>black</th>\n",
       "      <th>lstat</th>\n",
       "      <th>medv</th>\n",
       "    </tr>\n",
       "  </thead>\n",
       "  <tbody>\n",
       "    <tr>\n",
       "      <th>1</th>\n",
       "      <td>0.00632</td>\n",
       "      <td>18.0</td>\n",
       "      <td>2.31</td>\n",
       "      <td>0</td>\n",
       "      <td>0.538</td>\n",
       "      <td>6.575</td>\n",
       "      <td>65.2</td>\n",
       "      <td>4.0900</td>\n",
       "      <td>1</td>\n",
       "      <td>296</td>\n",
       "      <td>15.3</td>\n",
       "      <td>396.90</td>\n",
       "      <td>4.98</td>\n",
       "      <td>24.0</td>\n",
       "    </tr>\n",
       "    <tr>\n",
       "      <th>2</th>\n",
       "      <td>0.02731</td>\n",
       "      <td>0.0</td>\n",
       "      <td>7.07</td>\n",
       "      <td>0</td>\n",
       "      <td>0.469</td>\n",
       "      <td>6.421</td>\n",
       "      <td>78.9</td>\n",
       "      <td>4.9671</td>\n",
       "      <td>2</td>\n",
       "      <td>242</td>\n",
       "      <td>17.8</td>\n",
       "      <td>396.90</td>\n",
       "      <td>9.14</td>\n",
       "      <td>21.6</td>\n",
       "    </tr>\n",
       "    <tr>\n",
       "      <th>3</th>\n",
       "      <td>0.02729</td>\n",
       "      <td>0.0</td>\n",
       "      <td>7.07</td>\n",
       "      <td>0</td>\n",
       "      <td>0.469</td>\n",
       "      <td>7.185</td>\n",
       "      <td>61.1</td>\n",
       "      <td>4.9671</td>\n",
       "      <td>2</td>\n",
       "      <td>242</td>\n",
       "      <td>17.8</td>\n",
       "      <td>392.83</td>\n",
       "      <td>4.03</td>\n",
       "      <td>34.7</td>\n",
       "    </tr>\n",
       "    <tr>\n",
       "      <th>4</th>\n",
       "      <td>0.03237</td>\n",
       "      <td>0.0</td>\n",
       "      <td>2.18</td>\n",
       "      <td>0</td>\n",
       "      <td>0.458</td>\n",
       "      <td>6.998</td>\n",
       "      <td>45.8</td>\n",
       "      <td>6.0622</td>\n",
       "      <td>3</td>\n",
       "      <td>222</td>\n",
       "      <td>18.7</td>\n",
       "      <td>394.63</td>\n",
       "      <td>2.94</td>\n",
       "      <td>33.4</td>\n",
       "    </tr>\n",
       "    <tr>\n",
       "      <th>5</th>\n",
       "      <td>0.06905</td>\n",
       "      <td>0.0</td>\n",
       "      <td>2.18</td>\n",
       "      <td>0</td>\n",
       "      <td>0.458</td>\n",
       "      <td>7.147</td>\n",
       "      <td>54.2</td>\n",
       "      <td>6.0622</td>\n",
       "      <td>3</td>\n",
       "      <td>222</td>\n",
       "      <td>18.7</td>\n",
       "      <td>396.90</td>\n",
       "      <td>5.33</td>\n",
       "      <td>36.2</td>\n",
       "    </tr>\n",
       "  </tbody>\n",
       "</table>\n",
       "</div>"
      ],
      "text/plain": [
       "      crim    zn  indus  chas    nox     rm   age     dis  rad  tax  ptratio  \\\n",
       "1  0.00632  18.0   2.31     0  0.538  6.575  65.2  4.0900    1  296     15.3   \n",
       "2  0.02731   0.0   7.07     0  0.469  6.421  78.9  4.9671    2  242     17.8   \n",
       "3  0.02729   0.0   7.07     0  0.469  7.185  61.1  4.9671    2  242     17.8   \n",
       "4  0.03237   0.0   2.18     0  0.458  6.998  45.8  6.0622    3  222     18.7   \n",
       "5  0.06905   0.0   2.18     0  0.458  7.147  54.2  6.0622    3  222     18.7   \n",
       "\n",
       "    black  lstat  medv  \n",
       "1  396.90   4.98  24.0  \n",
       "2  396.90   9.14  21.6  \n",
       "3  392.83   4.03  34.7  \n",
       "4  394.63   2.94  33.4  \n",
       "5  396.90   5.33  36.2  "
      ]
     },
     "execution_count": 14,
     "metadata": {},
     "output_type": "execute_result"
    }
   ],
   "source": [
    "# YOUR CODE HERE\n",
    "print(df.shape)\n",
    "df.head()"
   ]
  },
  {
   "cell_type": "code",
   "execution_count": 15,
   "metadata": {
    "deletable": false,
    "editable": false,
    "nbgrader": {
     "cell_type": "code",
     "checksum": "69517f3adf50e40794b8420e407d96a3",
     "grade": true,
     "grade_id": "cell-4b1c600a41ae526b",
     "locked": true,
     "points": 1,
     "schema_version": 3,
     "solution": false,
     "task": false
    }
   },
   "outputs": [],
   "source": [
    "assert df.shape == (506, 14), 'Неверный размер таблицы'\n"
   ]
  },
  {
   "cell_type": "markdown",
   "metadata": {
    "deletable": false,
    "editable": false,
    "nbgrader": {
     "cell_type": "markdown",
     "checksum": "99c0f26a43e55425512b51366de9e4d1",
     "grade": false,
     "grade_id": "cell-1135a9b2053dfb33",
     "locked": true,
     "schema_version": 3,
     "solution": false,
     "task": false
    }
   },
   "source": [
    "**5.3** В переменную max_tax записать максимальное значение столбца tax"
   ]
  },
  {
   "cell_type": "code",
   "execution_count": 16,
   "metadata": {
    "deletable": false,
    "nbgrader": {
     "cell_type": "code",
     "checksum": "ef936c79d4adf7939fffe6d6fa2292e8",
     "grade": false,
     "grade_id": "cell-e4ebe27c156bb6b2",
     "locked": false,
     "schema_version": 3,
     "solution": true,
     "task": false
    }
   },
   "outputs": [
    {
     "name": "stdout",
     "output_type": "stream",
     "text": [
      "711\n"
     ]
    }
   ],
   "source": [
    "max_tax = 0\n",
    "max_tax = df[\"tax\"].max()\n",
    "print(max_tax)"
   ]
  },
  {
   "cell_type": "code",
   "execution_count": 17,
   "metadata": {
    "deletable": false,
    "editable": false,
    "nbgrader": {
     "cell_type": "code",
     "checksum": "684714ab6f2150c5ad009ea6386785f7",
     "grade": true,
     "grade_id": "cell-705bbddbeac94126",
     "locked": true,
     "points": 1,
     "schema_version": 3,
     "solution": false,
     "task": false
    }
   },
   "outputs": [],
   "source": [
    "assert max_tax > 700"
   ]
  },
  {
   "cell_type": "markdown",
   "metadata": {
    "deletable": false,
    "editable": false,
    "nbgrader": {
     "cell_type": "markdown",
     "checksum": "e300344e46de412e995e8e822f1300a0",
     "grade": false,
     "grade_id": "cell-c3dd321231970f98",
     "locked": true,
     "schema_version": 3,
     "solution": false,
     "task": false
    }
   },
   "source": [
    "**5.4** В переменную min_crim записать значение 'crim' у строки с минимальным значением 'age'"
   ]
  },
  {
   "cell_type": "code",
   "execution_count": 18,
   "metadata": {
    "deletable": false,
    "nbgrader": {
     "cell_type": "code",
     "checksum": "a03f283a4ae921dbe13c2a4045dfe2ab",
     "grade": false,
     "grade_id": "cell-1474f944c3e6ceb9",
     "locked": false,
     "schema_version": 3,
     "solution": true,
     "task": false
    }
   },
   "outputs": [],
   "source": [
    "min_crim = 0\n",
    "min_age = df[\"age\"].min()\n",
    "min_crim = df.loc[df[\"age\"] == min_age].iloc[0][\"crim\"]"
   ]
  },
  {
   "cell_type": "code",
   "execution_count": 19,
   "metadata": {
    "deletable": false,
    "editable": false,
    "nbgrader": {
     "cell_type": "code",
     "checksum": "074e434683762b6f90288d847c02ca30",
     "grade": true,
     "grade_id": "cell-3d3e5746bb6b928c",
     "locked": true,
     "points": 1,
     "schema_version": 3,
     "solution": false,
     "task": false
    }
   },
   "outputs": [],
   "source": [
    "assert min_crim < 0.2\n"
   ]
  },
  {
   "cell_type": "markdown",
   "metadata": {
    "deletable": false,
    "editable": false,
    "nbgrader": {
     "cell_type": "markdown",
     "checksum": "fe69d8dfe39f0c42162d10ed0aedab7c",
     "grade": false,
     "grade_id": "cell-2a5e3f5079a36305",
     "locked": true,
     "schema_version": 3,
     "solution": false,
     "task": false
    }
   },
   "source": [
    "**5.5** Индексы всех строк с максимальным значением столбца nox записать в переменную top_nox_ind"
   ]
  },
  {
   "cell_type": "code",
   "execution_count": 20,
   "metadata": {
    "deletable": false,
    "nbgrader": {
     "cell_type": "code",
     "checksum": "fcb5047ef46b36d77d2546617d57d90d",
     "grade": false,
     "grade_id": "cell-3d1f725ea7414e7a",
     "locked": false,
     "schema_version": 3,
     "solution": true,
     "task": false
    }
   },
   "outputs": [],
   "source": [
    "top_nox_ind = []\n",
    "max_nox = df[\"nox\"].max()\n",
    "top_nox_ind = df.loc[df[\"nox\"] == max_nox].index.tolist()"
   ]
  },
  {
   "cell_type": "code",
   "execution_count": 21,
   "metadata": {
    "deletable": false,
    "editable": false,
    "nbgrader": {
     "cell_type": "code",
     "checksum": "509c6f20db35e6ee6f62820634227975",
     "grade": true,
     "grade_id": "cell-e7a1871a142fd939",
     "locked": true,
     "points": 1,
     "schema_version": 3,
     "solution": false,
     "task": false
    }
   },
   "outputs": [],
   "source": [
    "assert 143 in top_nox_ind\n",
    "assert 157 in top_nox_ind\n"
   ]
  },
  {
   "cell_type": "markdown",
   "metadata": {
    "deletable": false,
    "editable": false,
    "nbgrader": {
     "cell_type": "markdown",
     "checksum": "4467f37a5ff2d662c1138a3f5490d22b",
     "grade": false,
     "grade_id": "cell-fdfca65df3d259b4",
     "locked": true,
     "schema_version": 3,
     "solution": false,
     "task": false
    }
   },
   "source": [
    "**5.6** В переменную k записать количество строк, для которых rm >= 7 и tax <= 270"
   ]
  },
  {
   "cell_type": "code",
   "execution_count": 22,
   "metadata": {
    "deletable": false,
    "nbgrader": {
     "cell_type": "code",
     "checksum": "fb96bd5ea541a6b9641b504c0bb21da9",
     "grade": false,
     "grade_id": "cell-c862b9ba029ac9bf",
     "locked": false,
     "schema_version": 3,
     "solution": true,
     "task": false
    }
   },
   "outputs": [],
   "source": [
    "k = 0\n",
    "k = df[(df[\"rm\"] >= 7) & (df[\"tax\"] <= 270)].shape[0]"
   ]
  },
  {
   "cell_type": "code",
   "execution_count": 23,
   "metadata": {
    "deletable": false,
    "editable": false,
    "nbgrader": {
     "cell_type": "code",
     "checksum": "67e32a4c19552bfad18b231d6e971e35",
     "grade": true,
     "grade_id": "cell-406f5aec51536379",
     "locked": true,
     "points": 1,
     "schema_version": 3,
     "solution": false,
     "task": false
    }
   },
   "outputs": [],
   "source": [
    "assert k > 20\n",
    "assert k < 50\n"
   ]
  },
  {
   "cell_type": "code",
   "execution_count": null,
   "metadata": {},
   "outputs": [],
   "source": []
  }
 ],
 "metadata": {
  "colab": {
   "collapsed_sections": [],
   "name": "Homework_3.ipynb",
   "provenance": []
  },
  "kernelspec": {
   "display_name": "Python 3",
   "language": "python",
   "name": "python3"
  },
  "language_info": {
   "codemirror_mode": {
    "name": "ipython",
    "version": 3
   },
   "file_extension": ".py",
   "mimetype": "text/x-python",
   "name": "python",
   "nbconvert_exporter": "python",
   "pygments_lexer": "ipython3",
   "version": "3.7.3"
  }
 },
 "nbformat": 4,
 "nbformat_minor": 1
}
