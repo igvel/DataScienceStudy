{
 "cells": [
  {
   "cell_type": "markdown",
   "metadata": {
    "deletable": false,
    "editable": false,
    "nbgrader": {
     "cell_type": "markdown",
     "checksum": "a2601b8dbcd41311ea26c0c6fa32a0db",
     "grade": false,
     "grade_id": "cell-88e932e5e491b489",
     "locked": true,
     "schema_version": 3,
     "solution": false,
     "task": false
    }
   },
   "source": [
    "# Практическое задание\n",
    "\n",
    "В данном задании предлагается реализовать алгоритм градиентного спуска для линейной функции вида $f(X) = kX + b$.\n",
    "\n",
    "Задание состоит из 4-х частей.\n",
    "\n",
    "1. Реализация линейной функции;\n",
    "\n",
    "2. Реализация функции ошибки;\n",
    "\n",
    "3. Реализация градиента от функции ошибки;\n",
    "\n",
    "4. Реализация градиентного спуска.\n",
    "\n",
    "\n",
    "При реализации запрещается пользоваться готовыми решениями. Можно использовать любые функции библиотек `numpy`."
   ]
  },
  {
   "cell_type": "markdown",
   "metadata": {
    "deletable": false,
    "editable": false,
    "nbgrader": {
     "cell_type": "markdown",
     "checksum": "42fb9d5e606858cb23b31bd14437454e",
     "grade": false,
     "grade_id": "cell-27eb04bf1d0e34ad",
     "locked": true,
     "schema_version": 3,
     "solution": false,
     "task": false
    }
   },
   "source": [
    "Для корректной работы перед выполнение задания запустите ячейку ниже."
   ]
  },
  {
   "cell_type": "code",
   "execution_count": 1,
   "metadata": {
    "deletable": false,
    "editable": false,
    "nbgrader": {
     "cell_type": "code",
     "checksum": "4642e68c900f8c1afa76d5559bd68363",
     "grade": false,
     "grade_id": "cell-f006d450e5fd8227",
     "locked": true,
     "schema_version": 3,
     "solution": false,
     "task": false
    }
   },
   "outputs": [],
   "source": [
    "from regression_helper import * # Подгружаем функции для визуализации\n",
    "import numpy as np              # Подгруджаем библиотеку NumPy\n",
    "\n",
    "X, y = get_data()               # Загружаем данные в X и y"
   ]
  },
  {
   "cell_type": "markdown",
   "metadata": {
    "deletable": false,
    "editable": false,
    "nbgrader": {
     "cell_type": "markdown",
     "checksum": "fa2d5bf0a4a2c0463dbd6033ef1b2c6b",
     "grade": false,
     "grade_id": "cell-840ace48fcee1789",
     "locked": true,
     "points": 1,
     "schema_version": 3,
     "solution": false,
     "task": true
    }
   },
   "source": [
    "Соблюдай PEP8. Это тоже будет оцениваться."
   ]
  },
  {
   "cell_type": "markdown",
   "metadata": {
    "deletable": false,
    "editable": false,
    "nbgrader": {
     "cell_type": "markdown",
     "checksum": "afb2ec8387b8491951edeab6283da2eb",
     "grade": false,
     "grade_id": "cell-3862ef9bb37a44fc",
     "locked": true,
     "schema_version": 3,
     "solution": false,
     "task": false
    }
   },
   "source": [
    "## 1. Реализация линейной функции"
   ]
  },
  {
   "cell_type": "markdown",
   "metadata": {
    "deletable": false,
    "editable": false,
    "nbgrader": {
     "cell_type": "markdown",
     "checksum": "15581d15b7ae8c752fb4a6b50a8543ef",
     "grade": false,
     "grade_id": "cell-60acb7f7b8475de0",
     "locked": true,
     "schema_version": 3,
     "solution": false,
     "task": false
    }
   },
   "source": [
    "Для каждого элемента $X_i$ массива $X$ реализовать функцию $f(X_i) = kX_i + b$.\n",
    "\n",
    "Входные параметры:\n",
    "\n",
    "* Массив $X$: тип numpy.ndarray\n",
    "\n",
    "* Значение коэффициента $k$: тип float\n",
    "\n",
    "* Значение коэффициента $b$: тип float\n",
    "\n",
    "Выходное значение:\n",
    "\n",
    "* На выходе массив со значениями $f(X_i) = kX_i + b$:  numpy.ndarray\n"
   ]
  },
  {
   "cell_type": "code",
   "execution_count": 2,
   "metadata": {
    "deletable": false,
    "nbgrader": {
     "cell_type": "code",
     "checksum": "b5aba74ea33eecf03e6a3fb8885fe381",
     "grade": false,
     "grade_id": "cell-6801834b936cd676",
     "locked": false,
     "schema_version": 3,
     "solution": true,
     "task": false
    }
   },
   "outputs": [],
   "source": [
    "def f(X, k, b):\n",
    "    return k * X + b"
   ]
  },
  {
   "cell_type": "code",
   "execution_count": 3,
   "metadata": {
    "deletable": false,
    "editable": false,
    "nbgrader": {
     "cell_type": "code",
     "checksum": "fc2b77e2851bc417275adc4d8f8f96c8",
     "grade": true,
     "grade_id": "cell-146aa5f20e42bf18",
     "locked": true,
     "points": 1,
     "schema_version": 3,
     "solution": false,
     "task": false
    }
   },
   "outputs": [],
   "source": [
    "k = 10\n",
    "b = -10\n",
    "\n",
    "ans = np.array([-9. , -8.8, -8.7, -8.7, -8.6, -8.2, -7.9, -7.4, -7.4, -7.4,\n",
    "                -7.2, -7.1, -7.1, -6.5, -6.5, -5.7, -5.4, -5.3, -5.2, -5.2])\n",
    "assert np.allclose(f(X, k, b), ans), 'Неправильный ответ'\n",
    "assert isinstance(f(X, k, b), np.ndarray), 'Тип возвращаемых данных должен быть numpy.ndarray'"
   ]
  },
  {
   "cell_type": "markdown",
   "metadata": {
    "deletable": false,
    "editable": false,
    "nbgrader": {
     "cell_type": "markdown",
     "checksum": "c0e99ab4f49a2c230811a0e417ec7638",
     "grade": false,
     "grade_id": "cell-028e368d8b4fc68a",
     "locked": true,
     "schema_version": 3,
     "solution": false,
     "task": false
    }
   },
   "source": [
    "## 2.  Реализация функции ошибки"
   ]
  },
  {
   "cell_type": "markdown",
   "metadata": {
    "deletable": false,
    "editable": false,
    "nbgrader": {
     "cell_type": "markdown",
     "checksum": "c4a76e0dfda3f70a4dab522ae345294c",
     "grade": false,
     "grade_id": "cell-dae29166889f7869",
     "locked": true,
     "schema_version": 3,
     "solution": false,
     "task": false
    }
   },
   "source": [
    "Для входных данных массива $X$, реального выходного значения $y$ и параметров $k$ и $b$ необходимо реализовать функцию ошибки. \n",
    "\n",
    "Входные параметры:\n",
    "\n",
    "* Массив $X$: тип numpy.ndarray\n",
    "\n",
    "* Массив реальных выходных значений $y$: тип numpy.ndarray\n",
    "\n",
    "* Значение коэффициента $k$: тип float\n",
    "\n",
    "* Значение коэффициента $b$: тип float\n",
    "\n",
    "Выходное значение:\n",
    "\n",
    "* На выходе значение функции ошибки $Loss(k, b)$: тип float\n",
    "\n",
    "Формула функции ошибки:\n",
    "\n",
    "$Loss(k, b) = \\dfrac{1}{N} \\sum_{i=0}^{N}{((kX_i + b)- y_i)^2} $\n"
   ]
  },
  {
   "cell_type": "code",
   "execution_count": 4,
   "metadata": {
    "deletable": false,
    "nbgrader": {
     "cell_type": "code",
     "checksum": "536a3f5047b39962a70a0ffd3e557e62",
     "grade": false,
     "grade_id": "cell-d7493bb295b89429",
     "locked": false,
     "schema_version": 3,
     "solution": true,
     "task": false
    }
   },
   "outputs": [],
   "source": [
    "def linear_loss_function(X, y, k, b):\n",
    "    return np.mean((f(X, k, b) - y) ** 2)"
   ]
  },
  {
   "cell_type": "code",
   "execution_count": 5,
   "metadata": {
    "deletable": false,
    "editable": false,
    "nbgrader": {
     "cell_type": "code",
     "checksum": "6c03931355295ecde4f6e4d295467e7f",
     "grade": true,
     "grade_id": "cell-50ca71881bdbbfd5",
     "locked": true,
     "points": 2,
     "schema_version": 3,
     "solution": false,
     "task": false
    }
   },
   "outputs": [],
   "source": [
    "k = 10\n",
    "b = -10\n",
    "eps = 1e-3\n",
    "\n",
    "assert np.fabs(linear_loss_function(X, y, k, b) - 182.5425) < eps, 'Неправильный ответ'"
   ]
  },
  {
   "cell_type": "markdown",
   "metadata": {
    "deletable": false,
    "editable": false,
    "nbgrader": {
     "cell_type": "markdown",
     "checksum": "25f58c0d21c5a77fec0dbb417cd14d91",
     "grade": false,
     "grade_id": "cell-969d2a763cb1db76",
     "locked": true,
     "schema_version": 3,
     "solution": false,
     "task": false
    }
   },
   "source": [
    "## 3. Реализация градиента от функции ошибки"
   ]
  },
  {
   "cell_type": "markdown",
   "metadata": {
    "deletable": false,
    "editable": false,
    "nbgrader": {
     "cell_type": "markdown",
     "checksum": "4a72e2262bcfdd096827bc5dfc7c59e7",
     "grade": false,
     "grade_id": "cell-7ca4bc0192320896",
     "locked": true,
     "schema_version": 3,
     "solution": false,
     "task": false
    }
   },
   "source": [
    "Для входных данных массива $X$, реального выходного значения $y$ и параметров $k$ и $b$ необходимо реализовать подсчет градиента функции ошибки. \n",
    "\n",
    "Входные параметры:\n",
    "\n",
    "* Массив $X$: тип numpy.ndarray\n",
    "\n",
    "* Массив реальных выходных значений $y$: тип numpy.ndarray\n",
    "\n",
    "* Значение коэффициента $k$: тип float\n",
    "\n",
    "* Значение коэффициента $b$: тип float\n",
    "\n",
    "Выходное значение:\n",
    "\n",
    "* На выходе массив значений градиента функции ошибки $\\nabla Loss(k, b)$: тип numpy.ndarray.\n",
    "\n",
    "Нулевой элемент выходного массива - это частная производная по $k$, первый элемент частная производная по $b$.\n",
    "\n",
    "Формула градиента функции ошибки:\n",
    "\n",
    "\n",
    "$\\nabla Loss(k, b) = \\left[\\dfrac{\\delta Loss(k, b)}{\\delta k} ; \\dfrac{\\delta Loss(k, b)}{\\delta b} \\right]$\n",
    "\n",
    "$\\nabla Loss(k, b) = \\left[\\dfrac{2}{N} \\sum_{i=1}^{N} ((k X_i + b)  - y_i)X_i ; \\dfrac{2}{N}\\sum_{i=1}^{N} ((k X_i + b)  - y_i) \\right]$"
   ]
  },
  {
   "cell_type": "code",
   "execution_count": 6,
   "metadata": {
    "deletable": false,
    "nbgrader": {
     "cell_type": "code",
     "checksum": "51da981f8ce6a7e7a958303bb7ec7dc0",
     "grade": false,
     "grade_id": "cell-f8391b29a64493bb",
     "locked": false,
     "schema_version": 3,
     "solution": true,
     "task": false
    }
   },
   "outputs": [
    {
     "name": "stdout",
     "output_type": "stream",
     "text": [
      "(-7.826719999999999, -26.966)\n"
     ]
    }
   ],
   "source": [
    "def gradient_function(X, y, k, b):\n",
    "    return (2 * np.mean((f(X, k, b) - y) * X), 2 * np.mean(f(X, k, b) - y))\n",
    "    \n",
    "k = 10\n",
    "b = -10\n",
    "grad = gradient_function(X, y, k, b)\n",
    "print(grad)"
   ]
  },
  {
   "cell_type": "code",
   "execution_count": 7,
   "metadata": {
    "deletable": false,
    "editable": false,
    "nbgrader": {
     "cell_type": "code",
     "checksum": "2d3bfcbb665c7dac2e1aef9d1e184f4f",
     "grade": true,
     "grade_id": "cell-cf25afe363ab1292",
     "locked": true,
     "points": 2,
     "schema_version": 3,
     "solution": false,
     "task": false
    }
   },
   "outputs": [],
   "source": [
    "k = 10\n",
    "b = -10\n",
    "\n",
    "ans = np.array([-7.826719999999999, -26.966])\n",
    "\n",
    "assert np.allclose(gradient_function(X, y, k, b), ans), 'Неправильный ответ'"
   ]
  },
  {
   "cell_type": "markdown",
   "metadata": {
    "deletable": false,
    "editable": false,
    "nbgrader": {
     "cell_type": "markdown",
     "checksum": "276b423b4b5db46c215aecd7e34f6070",
     "grade": false,
     "grade_id": "cell-b2b190349ce75d31",
     "locked": true,
     "schema_version": 3,
     "solution": false,
     "task": false
    }
   },
   "source": [
    "## 4. Реализация градиентного спуска"
   ]
  },
  {
   "cell_type": "markdown",
   "metadata": {
    "deletable": false,
    "editable": false,
    "nbgrader": {
     "cell_type": "markdown",
     "checksum": "dbccd45a9ebe2cddf942488162dc8f24",
     "grade": false,
     "grade_id": "cell-f0f5e630bee66db7",
     "locked": true,
     "schema_version": 3,
     "solution": false,
     "task": false
    }
   },
   "source": [
    "Для входных данных массива $X$, реального выходного значения $y$, начальных значений $k_{init}$ и $b_{init}$, значения параметра $\\alpha$ необходимо реализовать градиентный спуск. \n",
    "\n",
    "На входе:\n",
    "\n",
    "* Массив $X$: тип numpy.ndarray\n",
    "\n",
    "* Массив реальных выходных значений $y$: тип numpy.ndarray\n",
    "\n",
    "* Начальный коэффициент функции $k_{init}$: тип float\n",
    "\n",
    "* Начальный коэффициент функции $b_{init}$: тип float\n",
    "\n",
    "* Коэффициент обучения $\\alpha$: тип float\n",
    "\n",
    "* Количество итераций алгоритма $iter$: тип int\n",
    "\n",
    "Выходное значение:\n",
    "\n",
    "* На выходе кортеж со значениями коэффициентов $k$ и $b$ после градиентного спуска.\n",
    "\n",
    "Алгоритм градиентного спуска: \n",
    "\n",
    "* Выбираем начальное значение для $k$ и $b$\n",
    "* Повторяем $iter$ раз:\n",
    "\n",
    "    &nbsp;&nbsp;&nbsp;&nbsp;&nbsp;&nbsp; $b_{new} = b  - \\alpha \\cdot \\dfrac{\\delta J(k, b)}{\\delta b} $ \n",
    "    \n",
    "    &nbsp;&nbsp;&nbsp;&nbsp;&nbsp;&nbsp; $k_{new} = k - \\alpha \\cdot \\dfrac{\\delta J(k, b)}{\\delta k} $ \n",
    "    \n",
    "    &nbsp;&nbsp;&nbsp;&nbsp;&nbsp;&nbsp; $b = b_{new}$, \n",
    "    \n",
    "    &nbsp;&nbsp;&nbsp;&nbsp;&nbsp;&nbsp;  $k = k_{new}$\n",
    "   \n",
    "**Важно!** Сперва должны быть посчитаны частные производные для каждого параметра и только после этого их можно обновлять"
   ]
  },
  {
   "cell_type": "code",
   "execution_count": 8,
   "metadata": {
    "deletable": false,
    "nbgrader": {
     "cell_type": "code",
     "checksum": "3e0c3084a043e5c7bb4fa55f877ffa15",
     "grade": false,
     "grade_id": "cell-3b49c7f20a98a276",
     "locked": false,
     "schema_version": 3,
     "solution": true,
     "task": false
    }
   },
   "outputs": [],
   "source": [
    "def gradient_descent(X, y, k_init, b_init, alpha, iters):\n",
    "    k = k_init\n",
    "    b = b_init\n",
    "    \n",
    "    for i in range(0, iters):\n",
    "        grad = gradient_function(X, y, k, b)\n",
    "        k = k - alpha * grad[0]\n",
    "        b = b - alpha * grad[1]\n",
    "    \n",
    "    return (k, b)"
   ]
  },
  {
   "cell_type": "code",
   "execution_count": 9,
   "metadata": {
    "deletable": false,
    "editable": false,
    "nbgrader": {
     "cell_type": "code",
     "checksum": "eb89071446dd505a55b40aef1501ec3b",
     "grade": true,
     "grade_id": "cell-fdfef48157ff0f93",
     "locked": true,
     "points": 4,
     "schema_version": 3,
     "solution": false,
     "task": false
    }
   },
   "outputs": [
    {
     "name": "stdout",
     "output_type": "stream",
     "text": [
      "Значения коэффициентов k=15.692664739822165 и b=1.8691300755000857\n",
      "Ошибка на полученных коэффициентах: 0.23360851725355353\n"
     ]
    }
   ],
   "source": [
    "k_init = 5\n",
    "b_init = -1\n",
    "alpha = 0.75\n",
    "iters = 500\n",
    "\n",
    "k_gd, b_gd = gradient_descent(X, y, k_init, b_init, alpha, iters)\n",
    "print(f\"Значения коэффициентов k={k_gd} и b={b_gd}\")\n",
    "print(f\"Ошибка на полученных коэффициентах: {linear_loss_function(X, y, k_gd, b_gd)}\")\n",
    "\n",
    "assert np.allclose(np.round(k_gd, 2), 15.69), 'Неправильный ответ'\n",
    "assert np.allclose(np.round(b_gd, 2), 1.87), 'Неправильный ответ'"
   ]
  },
  {
   "cell_type": "code",
   "execution_count": 10,
   "metadata": {},
   "outputs": [
    {
     "data": {
      "text/plain": [
       "15.69"
      ]
     },
     "execution_count": 10,
     "metadata": {},
     "output_type": "execute_result"
    }
   ],
   "source": [
    "np.round(k_gd, 2)"
   ]
  },
  {
   "cell_type": "markdown",
   "metadata": {
    "deletable": false,
    "editable": false,
    "nbgrader": {
     "cell_type": "markdown",
     "checksum": "85dab0bb4cf8ae068cc8da51e80425e5",
     "grade": false,
     "grade_id": "cell-069dcc9a705ef920",
     "locked": true,
     "schema_version": 3,
     "solution": false,
     "task": false
    }
   },
   "source": [
    "## 5. Насладимся результатом"
   ]
  },
  {
   "cell_type": "markdown",
   "metadata": {
    "deletable": false,
    "editable": false,
    "nbgrader": {
     "cell_type": "markdown",
     "checksum": "39a4257f8dfc01895aba4b4787987778",
     "grade": false,
     "grade_id": "cell-91dcb5d47065f13b",
     "locked": true,
     "schema_version": 3,
     "solution": false,
     "task": false
    }
   },
   "source": [
    "В следующей ячейке можно посмотреть на полученный результат после завершения градиентного спуска."
   ]
  },
  {
   "cell_type": "code",
   "execution_count": 11,
   "metadata": {
    "deletable": false,
    "editable": false,
    "nbgrader": {
     "cell_type": "code",
     "checksum": "ebdb21f114004e0fc725856836f7cb72",
     "grade": false,
     "grade_id": "cell-4f8cd05d7ab7ffb0",
     "locked": true,
     "schema_version": 3,
     "solution": false,
     "task": false
    }
   },
   "outputs": [
    {
     "data": {
      "image/png": "[encoded data removed]",
      "text/plain": [
       "<Figure size 800x400 with 1 Axes>"
      ]
     },
     "metadata": {
      "needs_background": "light"
     },
     "output_type": "display_data"
    }
   ],
   "source": [
    "plot_data_and_hyp_with_bias(X, y, k_gd, b_gd)"
   ]
  },
  {
   "cell_type": "code",
   "execution_count": null,
   "metadata": {},
   "outputs": [],
   "source": []
  }
 ],
 "metadata": {
  "kernelspec": {
   "display_name": "Python 3",
   "language": "python",
   "name": "python3"
  },
  "language_info": {
   "codemirror_mode": {
    "name": "ipython",
    "version": 3
   },
   "file_extension": ".py",
   "mimetype": "text/x-python",
   "name": "python",
   "nbconvert_exporter": "python",
   "pygments_lexer": "ipython3",
   "version": "3.7.3"
  }
 },
 "nbformat": 4,
 "nbformat_minor": 2
}
