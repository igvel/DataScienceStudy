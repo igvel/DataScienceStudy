{
 "cells": [
  {
   "cell_type": "markdown",
   "metadata": {
    "deletable": false,
    "editable": false,
    "nbgrader": {
     "cell_type": "markdown",
     "checksum": "eef98f4e6e8418001c3a203213082a3b",
     "grade": false,
     "grade_id": "cell-622bec7992b5a5c6",
     "locked": true,
     "schema_version": 3,
     "solution": false,
     "task": false
    }
   },
   "source": [
    "# Практическое задание\n",
    "Реализовать классификацию цветков ириса c  использованием функции ошибки *Hinge loss*:\n",
    "\n",
    "$[M_i<0] \\leqslant g(M_i)= max(0,1 - M_i)$"
   ]
  },
  {
   "cell_type": "code",
   "execution_count": 1,
   "metadata": {
    "deletable": false,
    "editable": false,
    "nbgrader": {
     "cell_type": "code",
     "checksum": "2b3d642904fd8f7bf9175c6dcdde0d8d",
     "grade": false,
     "grade_id": "cell-1f50a29df216de6c",
     "locked": true,
     "schema_version": 3,
     "solution": false,
     "task": false
    }
   },
   "outputs": [],
   "source": [
    "from classification_helper import *\n",
    "import numpy as np"
   ]
  },
  {
   "cell_type": "code",
   "execution_count": 2,
   "metadata": {
    "deletable": false,
    "editable": false,
    "nbgrader": {
     "cell_type": "code",
     "checksum": "324241908017114760bd1dda1625ad00",
     "grade": false,
     "grade_id": "cell-299271f71a33cda2",
     "locked": true,
     "schema_version": 3,
     "solution": false,
     "task": false
    }
   },
   "outputs": [],
   "source": [
    "X, kind_iris = get_data()"
   ]
  },
  {
   "cell_type": "markdown",
   "metadata": {
    "deletable": false,
    "editable": false,
    "nbgrader": {
     "cell_type": "markdown",
     "checksum": "8517c382ab2cd311a8583a00519483a9",
     "grade": false,
     "grade_id": "cell-7fb173110d73d0e5",
     "locked": true,
     "schema_version": 3,
     "solution": false,
     "task": false
    }
   },
   "source": [
    "Закодируйте вид цветка ириса метками класса $-1$ и $1$, результат запишите в переменную $y$"
   ]
  },
  {
   "cell_type": "code",
   "execution_count": 3,
   "metadata": {
    "deletable": false,
    "nbgrader": {
     "cell_type": "code",
     "checksum": "b7dae1d32d08f56da3252c16edcf1ce4",
     "grade": false,
     "grade_id": "cell-38ef34e81e27c12e",
     "locked": false,
     "schema_version": 3,
     "solution": true,
     "task": false
    }
   },
   "outputs": [],
   "source": [
    "y = kind_iris.copy()\n",
    "y[y == 'iris setosa'] = -1\n",
    "y[y == 'iris virginica'] = 1\n",
    "y = y.astype(int)"
   ]
  },
  {
   "cell_type": "code",
   "execution_count": 4,
   "metadata": {
    "deletable": false,
    "editable": false,
    "nbgrader": {
     "cell_type": "code",
     "checksum": "ca3f1b5cf10f7cfe00b13dfdfaac8943",
     "grade": true,
     "grade_id": "cell-7502243eef4c043d",
     "locked": true,
     "points": 1,
     "schema_version": 3,
     "solution": false,
     "task": false
    }
   },
   "outputs": [],
   "source": [
    "assert type(y[0]) != np.str_, \"Вектор y должен содержать тип int\"\n",
    "assert sum(y) == 0, \"Неверно закодирован вид ирисов\"\n",
    "assert sum (y**2) == 100, \"Вектор  y должен содержать значения либо -1 либо 1\""
   ]
  },
  {
   "cell_type": "markdown",
   "metadata": {
    "deletable": false,
    "editable": false,
    "nbgrader": {
     "cell_type": "markdown",
     "checksum": "1d08474f6c7ba502a63539fd35d6e3ea",
     "grade": false,
     "grade_id": "cell-9801e7da83acb837",
     "locked": true,
     "schema_version": 3,
     "solution": false,
     "task": false
    }
   },
   "source": [
    "Добавим первым столбцом в матрицу признаков столбец единиц"
   ]
  },
  {
   "cell_type": "code",
   "execution_count": 5,
   "metadata": {
    "deletable": false,
    "editable": false,
    "nbgrader": {
     "cell_type": "code",
     "checksum": "7aea22da3b473017451751b0a3971993",
     "grade": false,
     "grade_id": "cell-c0a06dc95e2d809d",
     "locked": true,
     "schema_version": 3,
     "solution": false,
     "task": false
    }
   },
   "outputs": [],
   "source": [
    "def add_ones(X):\n",
    "    X_ones = np.ones(X.shape[0])\n",
    "    return np.column_stack([X_ones, X])\n",
    "\n",
    "X_train = add_ones(X)"
   ]
  },
  {
   "cell_type": "markdown",
   "metadata": {
    "deletable": false,
    "editable": false,
    "nbgrader": {
     "cell_type": "markdown",
     "checksum": "1147d8eb7dc491997bd175e66fd3f9a6",
     "grade": false,
     "grade_id": "cell-6b0345c023bef473",
     "locked": true,
     "schema_version": 3,
     "solution": false,
     "task": false
    }
   },
   "source": [
    "Зададим начальные веса $\\Theta$ случайными значениями от 0 до 1:"
   ]
  },
  {
   "cell_type": "code",
   "execution_count": 6,
   "metadata": {
    "deletable": false,
    "editable": false,
    "nbgrader": {
     "cell_type": "code",
     "checksum": "adcd39d2c5fb2a6a763435fe4a5e3c6d",
     "grade": false,
     "grade_id": "cell-1fc9a80b1047f1e3",
     "locked": true,
     "schema_version": 3,
     "solution": false,
     "task": false
    }
   },
   "outputs": [
    {
     "name": "stdout",
     "output_type": "stream",
     "text": [
      "[0.80985798 0.11780204 0.96589037]\n"
     ]
    }
   ],
   "source": [
    "Theta = np.random.random_sample(size=(X_train.shape[1],))\n",
    "print(Theta)"
   ]
  },
  {
   "cell_type": "markdown",
   "metadata": {
    "deletable": false,
    "editable": false,
    "nbgrader": {
     "cell_type": "markdown",
     "checksum": "ed8213ee646b372d93710835ef145a4b",
     "grade": false,
     "grade_id": "cell-2927a311ed162b9a",
     "locked": true,
     "schema_version": 3,
     "solution": false,
     "task": false
    }
   },
   "source": [
    "Выпишим функцию ошибки $\\tilde L$\n",
    "\\begin{equation*}\n",
    "\\tilde L = \\dfrac{1}{N}\\sum_{i=1}^N g(M_i) \\\\\n",
    "g(M_i) = max(0,1 - M_i) \\\\\n",
    "\\tilde L = \\dfrac{1}{N}\\sum_{i=1}^N max(0,1 - M_i) \\\\\n",
    "\\tilde L = \\dfrac{1}{N}\\sum_{i=1}^N max(0,1 - y_iX_i\\Theta) \\\\\n",
    "\\end{equation*}`\n",
    "\n",
    "Вычислим частную производную от $\\tilde L$ по всесу $\\theta_j$:\n",
    "\n",
    "\\begin{equation*}\n",
    "\\dfrac{\\partial \\tilde L(\\Theta)}{\\partial \\theta_j} =  \\dfrac{1}{N}\\sum_{i=1}^N\\dfrac{\\partial max(0,1 - y_iX_i\\Theta)}{\\partial \\theta_j} \\\\\n",
    "\\dfrac{\\partial max(0,1 - y_iX_i\\Theta)}{\\partial \\theta_j} = \n",
    "\\begin{cases}\n",
    "-y_ix_{i,j}, &\\text{$y_iX_i\\Theta$ < 1} \\\\\n",
    "0,  &\\text{$y_iX_i\\Theta \\geqslant 1$}\n",
    "\\end{cases}\n",
    "\\end{equation*}\n",
    "\n",
    "Реализуйте вычисление градиента\n"
   ]
  },
  {
   "cell_type": "code",
   "execution_count": 7,
   "metadata": {
    "deletable": false,
    "nbgrader": {
     "cell_type": "code",
     "checksum": "c929724b644c2e611d5584653df9e5ca",
     "grade": false,
     "grade_id": "cell-370bf639b021c82a",
     "locked": false,
     "schema_version": 3,
     "solution": true,
     "task": false
    }
   },
   "outputs": [],
   "source": [
    "def gradient_function(Theta, X_train, y):\n",
    "    grad = np.zeros_like(Theta)\n",
    "    condition = np.zeros_like(y)\n",
    "    condition[y * (X_train.dot(Theta)) < 1] = 1\n",
    "    for j in range(0, grad.shape[0]):\n",
    "        grad[j] = np.mean((-y)* X_train[:, j] * condition)\n",
    "    return grad"
   ]
  },
  {
   "cell_type": "code",
   "execution_count": 8,
   "metadata": {
    "deletable": false,
    "editable": false,
    "nbgrader": {
     "cell_type": "code",
     "checksum": "39c73d12c55749d0dc9eba5b38376604",
     "grade": true,
     "grade_id": "cell-bc5ba4c8a2b829b9",
     "locked": true,
     "points": 3,
     "schema_version": 3,
     "solution": false,
     "task": false
    }
   },
   "outputs": [],
   "source": [
    "theta_test = np.array([0.3,0.4,0.5])\n",
    "\n",
    "if y[0] == -1:\n",
    "    ans = np.array([0.5  , 2.503, 1.714])\n",
    "else:\n",
    "    ans = np.array([0.5  , 3.294, 1.487])\n",
    "    \n",
    "assert np.allclose(gradient_function(theta_test, X_train, y), ans), 'Неправильный ответ'"
   ]
  },
  {
   "cell_type": "markdown",
   "metadata": {
    "deletable": false,
    "editable": false,
    "nbgrader": {
     "cell_type": "markdown",
     "checksum": "cb0f4499625d2b8524e93471500f9b02",
     "grade": false,
     "grade_id": "cell-279189d49a0f304d",
     "locked": true,
     "schema_version": 3,
     "solution": false,
     "task": false
    }
   },
   "source": [
    "Реализуйте алгоритм градинтного спуска: $\\theta_{j_{new}} = \\theta_j - \\alpha \\dfrac{\\partial \\tilde L(\\Theta)}{\\partial \\theta_j}$  "
   ]
  },
  {
   "cell_type": "code",
   "execution_count": 9,
   "metadata": {
    "deletable": false,
    "nbgrader": {
     "cell_type": "code",
     "checksum": "12aa6a4de306ce1b45706cf0fd25a949",
     "grade": false,
     "grade_id": "cell-9202dd9e247c84d1",
     "locked": false,
     "schema_version": 3,
     "solution": true,
     "task": false
    }
   },
   "outputs": [],
   "source": [
    "def gradient_descent(Theta, X_train, y, alpha, iters):        \n",
    "    theta = Theta.copy()\n",
    "    for i in range(0, iters):\n",
    "        grad = gradient_function(theta, X_train, y)\n",
    "        theta = theta - alpha * grad\n",
    "    return theta"
   ]
  },
  {
   "cell_type": "code",
   "execution_count": 10,
   "metadata": {
    "deletable": false,
    "editable": false,
    "nbgrader": {
     "cell_type": "code",
     "checksum": "c69bd6a330f157b8cfbc1d68abfe67e1",
     "grade": false,
     "grade_id": "cell-2fce7e3c32847a9a",
     "locked": true,
     "schema_version": 3,
     "solution": false,
     "task": false
    }
   },
   "outputs": [],
   "source": [
    "alpha = 0.01\n",
    "iters = 500\n",
    "theta_opt = gradient_descent(Theta, X_train, y, alpha, iters)"
   ]
  },
  {
   "cell_type": "markdown",
   "metadata": {
    "deletable": false,
    "editable": false,
    "nbgrader": {
     "cell_type": "markdown",
     "checksum": "fa27c69b0515be269c054fe44bbf77a0",
     "grade": false,
     "grade_id": "cell-032d1eb2c76c9146",
     "locked": true,
     "schema_version": 3,
     "solution": false,
     "task": false
    }
   },
   "source": [
    "Реализуйте функцию предсказания класса для всех цветков на основе параметров $\\Theta$"
   ]
  },
  {
   "cell_type": "code",
   "execution_count": 11,
   "metadata": {
    "deletable": false,
    "nbgrader": {
     "cell_type": "code",
     "checksum": "51e399f6a4f1d927aeac5d80fe14f038",
     "grade": false,
     "grade_id": "cell-9ad8caa3a134db75",
     "locked": false,
     "schema_version": 3,
     "solution": true,
     "task": false
    }
   },
   "outputs": [],
   "source": [
    "def predict_function(X_train, theta):\n",
    "    y_pred = np.sign(np.dot(X_train, theta))\n",
    "    return y_pred\n",
    "\n",
    "y_pred = predict_function(X_train, theta_opt)"
   ]
  },
  {
   "cell_type": "markdown",
   "metadata": {
    "deletable": false,
    "editable": false,
    "nbgrader": {
     "cell_type": "markdown",
     "checksum": "2c5020eaabcffcefeda5df1202ad911a",
     "grade": false,
     "grade_id": "cell-86eeb6ade7f9cb34",
     "locked": true,
     "schema_version": 3,
     "solution": false,
     "task": false
    }
   },
   "source": [
    "Посчитаем долю неверных ответов"
   ]
  },
  {
   "cell_type": "code",
   "execution_count": 12,
   "metadata": {
    "deletable": false,
    "editable": false,
    "nbgrader": {
     "cell_type": "code",
     "checksum": "18add3abc49604dd7a6d4604d5d2738f",
     "grade": true,
     "grade_id": "cell-cf2d7642dc741fa4",
     "locked": true,
     "points": 4,
     "schema_version": 3,
     "solution": false,
     "task": false
    }
   },
   "outputs": [
    {
     "name": "stdout",
     "output_type": "stream",
     "text": [
      "Доля неверных ответов равна:  0.01\n"
     ]
    }
   ],
   "source": [
    "def error(y, y_pred):\n",
    "    return np.mean(y_pred != y)\n",
    "err = error(y, y_pred)\n",
    "print(\"Доля неверных ответов равна: \", err)\n"
   ]
  },
  {
   "cell_type": "markdown",
   "metadata": {
    "deletable": false,
    "editable": false,
    "nbgrader": {
     "cell_type": "markdown",
     "checksum": "1d167867267b004046163771d4354ef3",
     "grade": false,
     "grade_id": "cell-2b9bb3a52af70f51",
     "locked": true,
     "schema_version": 3,
     "solution": false,
     "task": false
    }
   },
   "source": [
    "Нарисуем разделяющую прямую"
   ]
  },
  {
   "cell_type": "code",
   "execution_count": 13,
   "metadata": {
    "deletable": false,
    "editable": false,
    "nbgrader": {
     "cell_type": "code",
     "checksum": "eb88f7c71ac738a8b4e456cec3c0ddff",
     "grade": false,
     "grade_id": "cell-97c770db84d13900",
     "locked": true,
     "schema_version": 3,
     "solution": false,
     "task": false
    }
   },
   "outputs": [
    {
     "data": {
      "image/png": "[encoded data removed]",
      "text/plain": [
       "<Figure size 800x600 with 1 Axes>"
      ]
     },
     "metadata": {
      "needs_background": "light"
     },
     "output_type": "display_data"
    }
   ],
   "source": [
    "plot_finaly_trained_model(X, kind_iris, theta_opt)"
   ]
  },
  {
   "cell_type": "code",
   "execution_count": null,
   "metadata": {},
   "outputs": [],
   "source": []
  }
 ],
 "metadata": {
  "kernelspec": {
   "display_name": "Python 3",
   "language": "python",
   "name": "python3"
  },
  "language_info": {
   "codemirror_mode": {
    "name": "ipython",
    "version": 3
   },
   "file_extension": ".py",
   "mimetype": "text/x-python",
   "name": "python",
   "nbconvert_exporter": "python",
   "pygments_lexer": "ipython3",
   "version": "3.7.3"
  }
 },
 "nbformat": 4,
 "nbformat_minor": 2
}
