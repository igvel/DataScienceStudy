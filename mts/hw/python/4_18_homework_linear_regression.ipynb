{
 "cells": [
  {
   "cell_type": "markdown",
   "metadata": {
    "colab_type": "text",
    "deletable": false,
    "editable": false,
    "id": "AXLZtwVjw_6J",
    "nbgrader": {
     "cell_type": "markdown",
     "checksum": "55101361b08a6f2374bbe1876e94d85b",
     "grade": false,
     "grade_id": "cell-d042e718b2d51525",
     "locked": true,
     "schema_version": 3,
     "solution": false,
     "task": false
    }
   },
   "source": [
    "# Практическое задание\n",
    "\n",
    "В данном задании предлагается реализовать алгоритм градиентного спуска для полиномиальной регрессии функции вида $f(x) = \\theta_0 + \\theta_1 x + \\theta_2 x^2 + \\ldots + \\theta_i x^i \\ldots + \\ldots \\theta_m x^m$. При этом, в качестве функции потери будем применяться средняя абсолютная ошибка.\n",
    "\n",
    "Задание состоит из шести частей:\n",
    "\n",
    "1. Создать полиномиальные признаки.\n",
    "\n",
    "2. Реализовать полиномиальную функцию.\n",
    "\n",
    "3. Нормализовать данные.\n",
    "\n",
    "4. Реализовать среднюю абсолютную ошибку.\n",
    "\n",
    "5. Рассчитать градиент для функции ошибки.\n",
    "\n",
    "6. Реализовать градиентный спуск.\n",
    "\n",
    "7. Насладиться красотой алгоритмов машинного обучения.\n",
    "\n",
    "Задания следует делать одно за другим.  "
   ]
  },
  {
   "cell_type": "markdown",
   "metadata": {
    "colab_type": "text",
    "deletable": false,
    "editable": false,
    "id": "2GfCgbW7w_6M",
    "nbgrader": {
     "cell_type": "markdown",
     "checksum": "c5e6e718a6a1a164a0dfbe2179bf1381",
     "grade": false,
     "grade_id": "cell-bd8686fcd4e94ccd",
     "locked": true,
     "schema_version": 3,
     "solution": false,
     "task": false
    }
   },
   "source": [
    "Запустите следующие 2 ячейки перед началом работы."
   ]
  },
  {
   "cell_type": "code",
   "execution_count": 1,
   "metadata": {
    "colab": {},
    "colab_type": "code",
    "deletable": false,
    "editable": false,
    "id": "17Klq9s0w_6M",
    "nbgrader": {
     "cell_type": "code",
     "checksum": "d3871e3c80ce73d9844f636ca8bf3697",
     "grade": false,
     "grade_id": "cell-a94a0ac5d96d4dc7",
     "locked": true,
     "schema_version": 3,
     "solution": false,
     "task": false
    }
   },
   "outputs": [],
   "source": [
    "from regression2_helper import * # Подгружаем функции для визуализации\n",
    "import numpy as np              # Подгружаем библиотеку NumPy"
   ]
  },
  {
   "cell_type": "code",
   "execution_count": 2,
   "metadata": {
    "colab": {},
    "colab_type": "code",
    "deletable": false,
    "editable": false,
    "id": "J8Hw3VPrw_6P",
    "nbgrader": {
     "cell_type": "code",
     "checksum": "58ef60d1a907d4590cfa584b22b31dd6",
     "grade": false,
     "grade_id": "cell-ff6c6b4cf648898f",
     "locked": true,
     "schema_version": 3,
     "solution": false,
     "task": false
    }
   },
   "outputs": [],
   "source": [
    "X, y = get_homework_data()"
   ]
  },
  {
   "cell_type": "markdown",
   "metadata": {
    "colab_type": "text",
    "deletable": false,
    "editable": false,
    "id": "1dFrj5JGw_6R",
    "nbgrader": {
     "cell_type": "markdown",
     "checksum": "278e338cc1ac767915f7dbab879634e5",
     "grade": false,
     "grade_id": "cell-188502fa5b32f1be",
     "locked": true,
     "schema_version": 3,
     "solution": false,
     "task": false
    }
   },
   "source": [
    "## 1. Создать полиномиальные признаки \n",
    "\n",
    "На вход функции передается вектор значений признаков $x$ размера $(N, )$ и $m$. Функция должна возвращать матрицу  размера $(N, m+1)$.\n",
    "\n",
    "Другими словами, вектор $x$ выглядит таким образом:\n",
    "\n",
    "\\begin{equation*}\n",
    "\\mathbf{x} = \\begin{pmatrix}\n",
    "x_1\\\\\n",
    "x_2\\\\\n",
    "\\cdots \\\\\n",
    "x_i\\\\\n",
    "\\cdots \\\\\n",
    "x_N\n",
    "\\end{pmatrix}\n",
    "\\end{equation*}\n",
    "\n",
    "Тогда функция должна вернуть матрицу следующего вида:\n",
    "\n",
    "\\begin{equation*}\n",
    "\\mathbf{X} = \\begin{pmatrix}\n",
    "1 & x_1 & x_1^2 &\\dots & x_1^m\\\\\n",
    "1 & x_2 & x_2^2 &\\dots & x_2^m \\\\\n",
    "\\cdots & \\cdots & \\cdots & \\cdots & \\cdots \\\\\n",
    "1& x_N & x_N^2 &\\dots & x_N^m\n",
    "\\end{pmatrix}\n",
    "\\end{equation*}"
   ]
  },
  {
   "cell_type": "markdown",
   "metadata": {
    "colab_type": "text",
    "deletable": false,
    "editable": false,
    "id": "-YPlYTOWw_6S",
    "nbgrader": {
     "cell_type": "markdown",
     "checksum": "18c68c31eb93972a4ed272fe63e0d262",
     "grade": false,
     "grade_id": "cell-edb2ebfa5381b57e",
     "locked": true,
     "schema_version": 3,
     "solution": false,
     "task": false
    }
   },
   "source": [
    "Входные параметры:\n",
    "\n",
    "* Массив $x$ размера $(N, )$: тип numpy.ndarray\n",
    "\n",
    "* Значение коэффициента $m$: тип int\n",
    "\n",
    "Выходное значение:\n",
    "\n",
    "* Массив $X$ с полиномиальными значениями размера $(N, m+1)$: тип numpy.ndarray \n",
    "\n",
    "    \n",
    "Подсказка: использовать функцию hstack или column_stack из библиотеки numpy."
   ]
  },
  {
   "cell_type": "code",
   "execution_count": 10,
   "metadata": {
    "colab": {
     "base_uri": "https://localhost:8080/",
     "height": 34
    },
    "colab_type": "code",
    "deletable": false,
    "id": "ClunvN0Mw_6T",
    "nbgrader": {
     "cell_type": "code",
     "checksum": "5cd38aaeb1651db580111f7da2cead3e",
     "grade": false,
     "grade_id": "cell-fc1c3f993ad9164f",
     "locked": false,
     "schema_version": 3,
     "solution": true,
     "task": false
    },
    "outputId": "761d32fc-4c0a-45d9-9fb6-1b98ddd7f3c3"
   },
   "outputs": [],
   "source": [
    "def creat_polynomial_features(X, m):\n",
    "    result = np.ones_like(X)\n",
    "    for i in range(1, m+1):\n",
    "        result = np.column_stack((result, X ** i))\n",
    "    \n",
    "    return result"
   ]
  },
  {
   "cell_type": "code",
   "execution_count": 11,
   "metadata": {
    "deletable": false,
    "editable": false,
    "nbgrader": {
     "cell_type": "code",
     "checksum": "7b5e577e4ec85cae600bb7039e6db453",
     "grade": true,
     "grade_id": "cell-c35fb59767bc1504",
     "locked": true,
     "points": 2,
     "schema_version": 3,
     "solution": false,
     "task": false
    }
   },
   "outputs": [],
   "source": [
    "m=3\n",
    "X_m = creat_polynomial_features(X, m)\n",
    "\n",
    "assert X_m.shape == (100, 4), 'Неправильная размерность'\n",
    "assert np.allclose(np.round(X_m[:2], 2), np.array([[  1.  ,  -2.82,   7.94, -22.35],\n",
    "                                                   [  1.  ,  -0.48,   0.23,  -0.11]])), 'Неправильный ответ'\n"
   ]
  },
  {
   "cell_type": "markdown",
   "metadata": {
    "colab_type": "text",
    "deletable": false,
    "editable": false,
    "id": "BFpllysKw_6V",
    "nbgrader": {
     "cell_type": "markdown",
     "checksum": "5f8d8da8de6c0a464954afbf8b548229",
     "grade": false,
     "grade_id": "cell-e75c041af5acf28d",
     "locked": true,
     "schema_version": 3,
     "solution": false,
     "task": false
    }
   },
   "source": [
    "## 2. Реализовать полиномиальную функцию\n",
    "\n",
    "Необходимо реализовать линейную функцию вида $f(x_i) = \\theta_0 x_{i, 0} + \\theta_1 x_{i, 1}  + \\theta_2 x_{i, 2} +... + \\theta_m x_{i, m}$ в матричном виде.\n",
    "\n",
    "На вход функции передается вектор значений коэффициента $\\Theta$ размера $(m+1, )$, и матрица  $\\mathbf{X}$ размера $(N, m+1)$ с полиномиальными признаками полученная предыдущей функцией. Ваша задача вернуть вектор-столбец предсказаний $\\mathbf{y}$ размера $(N, )$.\n",
    "\n",
    "Заметьте, что мы будем передавать в функцию матрицу с полиномиальными признаками, таким образом получая полином:\n",
    "\n",
    "$f(x_i) = \\theta_0 + \\theta_1 x_i + \\theta_2 x_i^2 +... + \\theta_m x_i^m$\n",
    "\n",
    "$x_i^j$ это элемент $x_{i, j}$ матрицы $X$, $x_i^0 = 1$"
   ]
  },
  {
   "cell_type": "markdown",
   "metadata": {
    "colab_type": "text",
    "deletable": false,
    "editable": false,
    "id": "L0ZcWYuZw_6W",
    "nbgrader": {
     "cell_type": "markdown",
     "checksum": "288eafc80ba946089177af63d5d91522",
     "grade": false,
     "grade_id": "cell-33eb7fad56a08e98",
     "locked": true,
     "schema_version": 3,
     "solution": false,
     "task": false
    }
   },
   "source": [
    "Входные параметры:\n",
    "\n",
    "* Массив $X$ размера $(N, m+1)$: тип numpy.ndarray\n",
    "\n",
    "* Массив $\\Theta$ размера $(m+1, )$: тип numpy.ndarray\n",
    "\n",
    "Выходное значение:\n",
    "\n",
    "* Массив $y$ со значения  для $i = 0 \\ldots N-1$. Размера $y$ равен $(N, )$: тип numpy.ndarray "
   ]
  },
  {
   "cell_type": "code",
   "execution_count": 12,
   "metadata": {
    "colab": {
     "base_uri": "https://localhost:8080/",
     "height": 34
    },
    "colab_type": "code",
    "deletable": false,
    "id": "iJVdj2Udw_6X",
    "nbgrader": {
     "cell_type": "code",
     "checksum": "37a9f3296b8664ecba8bc8902f7aef15",
     "grade": false,
     "grade_id": "cell-eb81a7d711c99af6",
     "locked": false,
     "schema_version": 3,
     "solution": true,
     "task": false
    },
    "outputId": "c525da3b-256a-44ba-ce11-156f38a98a25"
   },
   "outputs": [],
   "source": [
    "def polinom_function(X_m, theta):\n",
    "    return np.dot(X_m, theta)"
   ]
  },
  {
   "cell_type": "code",
   "execution_count": 13,
   "metadata": {
    "deletable": false,
    "editable": false,
    "nbgrader": {
     "cell_type": "code",
     "checksum": "b28b9c0def8f1e954a5130c4eace2fcf",
     "grade": true,
     "grade_id": "cell-068b9e8ea596b2c3",
     "locked": true,
     "points": 2,
     "schema_version": 3,
     "solution": false,
     "task": false
    }
   },
   "outputs": [],
   "source": [
    "theta = np.array([0.46933807, 0.0788844 , 0.76681547, 0.24014943])\n",
    "poly_pred = polinom_function(X_m, theta)\n",
    "\n",
    "assert poly_pred.shape == (100, ), 'Неправильная рамерность'\n",
    "assert np.allclose(np.round(poly_pred, 2)[:5], np.array([0.96, 0.58, 7.38, 2.33, 0.96]))"
   ]
  },
  {
   "cell_type": "markdown",
   "metadata": {
    "colab_type": "text",
    "deletable": false,
    "editable": false,
    "id": "kZqBHHhow_6Z",
    "nbgrader": {
     "cell_type": "markdown",
     "checksum": "406fdf269c1d8cbfa31f8bcb205c2024",
     "grade": false,
     "grade_id": "cell-edfba506d7f7c143",
     "locked": true,
     "schema_version": 3,
     "solution": false,
     "task": false
    }
   },
   "source": [
    "## 3. Нормализовать данные"
   ]
  },
  {
   "cell_type": "markdown",
   "metadata": {
    "colab_type": "text",
    "deletable": false,
    "editable": false,
    "id": "iWzBzoHkw_6a",
    "nbgrader": {
     "cell_type": "markdown",
     "checksum": "0da2ea9b7280773e1e559b102f9db788",
     "grade": false,
     "grade_id": "cell-eed5d39ee322dcad",
     "locked": true,
     "schema_version": 3,
     "solution": false,
     "task": false
    }
   },
   "source": [
    "Необходимо реализовать стандартизацию данных. \n",
    "\n",
    "На вход подается матрица $X$ размера $(N, m+1)$ с полиномиальными признаками.\n",
    "Для каждого столбца нужно посчитать среднее значение и стандартное отклонение. Назовем их $E_j$ (среднее значение для столбца $j$) и $S_j$ (стандартное отклонение для столбца $j$).\n",
    "\n",
    "И для каждого элемента матрицы $x_{i, j}$, кроме элементов из нулевого столбца, который содержит единицы, нужно посчитать новое значение $x_{i, j}' = \\dfrac{x_{i, j} - E_j}{S_j}, i = 0 \\ldots N-1, j = 1, \\ldots m$\n",
    "\n",
    "Также необходимо вернуть массив со средними значениями и массив со стандартными отклонениями."
   ]
  },
  {
   "cell_type": "markdown",
   "metadata": {
    "colab_type": "text",
    "deletable": false,
    "editable": false,
    "id": "_Z8gx1aRw_6a",
    "nbgrader": {
     "cell_type": "markdown",
     "checksum": "d7948986f5c0089411e8a4bf2eef68c1",
     "grade": false,
     "grade_id": "cell-07305fc907c8fd75",
     "locked": true,
     "schema_version": 3,
     "solution": false,
     "task": false
    }
   },
   "source": [
    "Входные параметры:\n",
    "\n",
    "* Массив $X$ размера $(N, m+1)$: тип numpy.ndarray\n",
    "\n",
    "Выходные значение:\n",
    "\n",
    "* Массив $X'$ размера $(N, m+1)$ со стандартизированными параметрами: тип numpy.ndarray\n",
    "\n",
    "* Массив $E$ размера $(m+1, )$ с средними значениям для каждой колонки: тип numpy.ndarray\n",
    "\n",
    "* Массив $S$ размера  $(m+1, )$ со стандартными отклонениями для каждой колонки: тип numpy.ndarray\n",
    "\n",
    "\n",
    "*Подсказка: для создания копии массива X можно использовать метод copy().*\n",
    "\n",
    "*Подсказка: для того что бы вернуть несколько матриц, нужно указать их через запятую после return:*\n",
    "`return a, b`"
   ]
  },
  {
   "cell_type": "code",
   "execution_count": 23,
   "metadata": {
    "colab": {},
    "colab_type": "code",
    "deletable": false,
    "id": "u95KuT_Pw_6b",
    "nbgrader": {
     "cell_type": "code",
     "checksum": "dd9562d9f8969cf5fa0eb4c0fcc42d78",
     "grade": false,
     "grade_id": "cell-2d9808897c0f1c07",
     "locked": false,
     "schema_version": 3,
     "solution": true,
     "task": false
    }
   },
   "outputs": [],
   "source": [
    "def standartize_data(X):    \n",
    "    X_m_ss = X.copy()\n",
    "    means = [] \n",
    "    stds = []\n",
    "    \n",
    "    means = np.mean(X, axis=0)\n",
    "    stds = np.std(X, axis=0)\n",
    "    X_m_ss = np.column_stack((X_m_ss[:,0], (X_m_ss[:, 1:] - means[1:])/stds[1:]))\n",
    "    return X_m_ss, means, stds"
   ]
  },
  {
   "cell_type": "code",
   "execution_count": 24,
   "metadata": {
    "deletable": false,
    "editable": false,
    "nbgrader": {
     "cell_type": "code",
     "checksum": "259246e3c8df8f095f87ede4e6080a5e",
     "grade": true,
     "grade_id": "cell-369dd72552827d5c",
     "locked": true,
     "points": 2,
     "schema_version": 3,
     "solution": false,
     "task": false
    }
   },
   "outputs": [],
   "source": [
    "X_m_ss, means, stds = standartize_data(X_m)\n",
    "\n",
    "assert np.allclose(np.round(X_m_ss[2:4], 2), np.array([[ 1.  ,  1.34,  0.63,  1.17],\n",
    "                                                       [ 1.  ,  0.8 , -0.64,  0.31]]))\n",
    "assert np.allclose(np.round(means, 2), np.array([ 1.  , -0.2 ,  3.41, -1.28]))\n",
    "assert np.allclose(np.round(stds, 2), np.array([ 0.  ,  1.84,  2.75, 11.08]))"
   ]
  },
  {
   "cell_type": "markdown",
   "metadata": {
    "colab_type": "text",
    "deletable": false,
    "editable": false,
    "id": "n1kuxXBSw_6d",
    "nbgrader": {
     "cell_type": "markdown",
     "checksum": "9f630fb5dd1d466fe1c3f7a224a06da6",
     "grade": false,
     "grade_id": "cell-7842e1dcd7d82822",
     "locked": true,
     "schema_version": 3,
     "solution": false,
     "task": false
    }
   },
   "source": [
    "## 4. Реализовать функцию потерь  MAE \n",
    "\n",
    "Необходимо реализовать MAE. На вход функции передается вектор значений коэффициента $\\Theta$ размера $(m+1, )$, и матрица $\\mathbf{X}$ размера $(N, m+1)$ с полиномиальными признаками. А также вектор-столбец $\\mathbf{y}$ c реальными значениями, размера $(N, )$.\n",
    "\n",
    "Формула для MAE:\n",
    "\n",
    "$Loss(\\Theta) = \\frac{1}{N}\\sum_{i=0}^{N}{|\\hat{y_i} - y_i|}= \\frac{1}{N} \\sum_{i=0}^{N}{|X_i\\Theta - y_i|}$\n",
    "\n",
    "Функция должна возвращать действительное число равное $Loss(\\Theta)$.  "
   ]
  },
  {
   "cell_type": "markdown",
   "metadata": {
    "colab_type": "text",
    "deletable": false,
    "editable": false,
    "id": "kYFMGf8nw_6e",
    "nbgrader": {
     "cell_type": "markdown",
     "checksum": "d65052b45afab82d3620a0f729dc2567",
     "grade": false,
     "grade_id": "cell-0c61ffdb1dceb835",
     "locked": true,
     "schema_version": 3,
     "solution": false,
     "task": false
    }
   },
   "source": [
    "Входные параметры:\n",
    "\n",
    "* Массив $X$ размера $(N, m+1)$: тип numpy.ndarray\n",
    "\n",
    "* Массив реальных выходных значений $y$ размера $(N, )$: тип numpy.ndarray\n",
    "\n",
    "* Массив $\\Theta$ размера $(m+1, )$: тип numpy.ndarray\n",
    "\n",
    "Выходное значение:\n",
    "\n",
    "* Значение функции ошибки MAE для параметра $\\Theta$: тип float\n",
    "\n",
    "*Подсказка: в библиотеки NumPy есть функция модуля abs, она тебе поможет.* "
   ]
  },
  {
   "cell_type": "code",
   "execution_count": 25,
   "metadata": {
    "colab": {
     "base_uri": "https://localhost:8080/",
     "height": 34
    },
    "colab_type": "code",
    "deletable": false,
    "id": "vZkSnIF5w_6e",
    "nbgrader": {
     "cell_type": "code",
     "checksum": "96f3c2060670a5934b5ecf83b67d5fb1",
     "grade": false,
     "grade_id": "cell-20b0b78e9698c5ea",
     "locked": false,
     "schema_version": 3,
     "solution": true,
     "task": false
    },
    "outputId": "77b94c05-51e0-4af0-f9da-2f6d79182391"
   },
   "outputs": [],
   "source": [
    "def mae_loss_function(X_m, y, theta):\n",
    "    return np.mean(np.abs(polinom_function(X_m, theta) - y))"
   ]
  },
  {
   "cell_type": "code",
   "execution_count": 26,
   "metadata": {
    "deletable": false,
    "editable": false,
    "nbgrader": {
     "cell_type": "code",
     "checksum": "f77a9713f29dcdf7043201973236a372",
     "grade": true,
     "grade_id": "cell-bd0777b31f93b3df",
     "locked": true,
     "points": 2,
     "schema_version": 3,
     "solution": false,
     "task": false
    }
   },
   "outputs": [],
   "source": [
    "assert np.allclose(np.round(mae_loss_function(X_m_ss, y, theta), 2), 9.2), 'Неправильный ответ'"
   ]
  },
  {
   "cell_type": "markdown",
   "metadata": {
    "colab_type": "text",
    "deletable": false,
    "editable": false,
    "id": "rmlGwVu3w_6i",
    "nbgrader": {
     "cell_type": "markdown",
     "checksum": "41c67dd9bd09fde8463bef4dcc60cccd",
     "grade": false,
     "grade_id": "cell-8361db74226291da",
     "locked": true,
     "schema_version": 3,
     "solution": false,
     "task": false
    }
   },
   "source": [
    "## 5. Рассчитать градиент для функции ошибки.\n",
    "\n",
    "\n",
    "На вход функции передается вектор значений коэффициента $\\Theta$ размера $(m+1, )$, и матрица $\\mathbf{X}$ размера $(N, m+1)$ с полиномиальными признаками. А также вектор-столбец $\\mathbf{y}$ c реальными значениями, размера $(N, )$. \n",
    "\n",
    "Функция должна возвращать вектор градиент функции потерь MAE $Loss'(\\Theta)$ в точке $\\theta_0, \\theta_1, ... \\theta_m$. \n",
    "\n",
    "В общем случае производная от $f(x) = |x|$ не определена в точке $0$, во всех остальных случаях ее можно определить, как $|x|/x$.\n",
    "\n",
    "В нашем случае мы можем доопределить производную от $f(x) = |x|$ в нуле значением $0$. Тогда она совпадет с функцией знака (sign):\n",
    "\\begin{equation*}\n",
    " sign(x) = \n",
    " \\begin{cases}\n",
    "   1 &\\text{x > 0}\\\\\n",
    "   0 &\\text{x = 0}\\\\\n",
    "   -1 &\\text{x < 0}\n",
    " \\end{cases}\n",
    "\\end{equation*}\n",
    "\n",
    "Теперь мы можем посчитать градиент функции потерь:  \n",
    "\\begin{equation*}\n",
    "\\frac{\\partial Loss(\\Theta)}{\\partial \\theta_j} = \\dfrac{1}{N} \\sum_{i=1}^{N} sign(X_i\\Theta - y_i) x_{ij}\n",
    "\\end{equation*}\n",
    "\n",
    "\\begin{equation*}\n",
    "\\nabla Loss(\\Theta) = \n",
    " \\begin{bmatrix}\n",
    "   \\dfrac{1}{N} \\sum_{i=1}^{N} sign(X_i\\Theta - y_i)x_{i0}\\\\\n",
    "   \\dfrac{1}{N} \\sum_{i=1}^{N} sign(X_i\\Theta - y_i)x_{i1}\\\\\n",
    "   \\cdots\\\\\n",
    "   \\dfrac{1}{N} \\sum_{i=1}^{N} sign(X_i\\Theta - y_i)x_{im}\\\\\n",
    " \\end{bmatrix}\n",
    "\\end{equation*}\n",
    "\n",
    "В библиотеке numpy есть функция sign, которая считает функцию знака для всех элементов вектора. "
   ]
  },
  {
   "cell_type": "markdown",
   "metadata": {
    "colab_type": "text",
    "deletable": false,
    "editable": false,
    "id": "BzWt2n36w_6i",
    "nbgrader": {
     "cell_type": "markdown",
     "checksum": "10cf69fd7fef905ae58fd3813a7e36ab",
     "grade": false,
     "grade_id": "cell-d668fac4356b4638",
     "locked": true,
     "schema_version": 3,
     "solution": false,
     "task": false
    }
   },
   "source": [
    "Входные параметры:\n",
    "\n",
    "* Массив $X$ размера $(N, m+1)$: тип numpy.ndarray\n",
    "\n",
    "* Массив реальных выходных значений $y$ размера $(N, )$: тип numpy.ndarray\n",
    "\n",
    "* Массив $\\Theta$ размера $(m+1, )$: тип numpy.ndarray\n",
    "\n",
    "Выходное значение:\n",
    "\n",
    "* Значение градиента для каждого параметра $\\Theta$, размер $(m+1, )$:  тип numpy.ndarray\n",
    "\n",
    "*Подсказка: в библиотеки NumPy есть функция модуля abs, она тебе поможет.* "
   ]
  },
  {
   "cell_type": "code",
   "execution_count": 27,
   "metadata": {
    "colab": {
     "base_uri": "https://localhost:8080/",
     "height": 34
    },
    "colab_type": "code",
    "deletable": false,
    "id": "53DMCKPqw_6k",
    "nbgrader": {
     "cell_type": "code",
     "checksum": "cc352d0246f389d276b12ca25c0db7a0",
     "grade": false,
     "grade_id": "cell-b4e1d5c1b95a2647",
     "locked": false,
     "schema_version": 3,
     "solution": true,
     "task": false
    },
    "outputId": "38f49c3d-8fbc-469d-9acd-aaa2f34f6969"
   },
   "outputs": [],
   "source": [
    "def gradient_function(X, y, theta):\n",
    "    grad = np.zeros_like(theta)\n",
    "    for j in range(grad.shape[0]):\n",
    "        grad[j] = np.mean(np.sign(polinom_function(X, theta) - y) * X[:, j])\n",
    "    \n",
    "    return grad\n",
    "        "
   ]
  },
  {
   "cell_type": "code",
   "execution_count": 28,
   "metadata": {
    "deletable": false,
    "editable": false,
    "nbgrader": {
     "cell_type": "code",
     "checksum": "9724335feecb4c29aff375f22c6b13b6",
     "grade": true,
     "grade_id": "cell-2553889afa09c974",
     "locked": true,
     "points": 3,
     "schema_version": 3,
     "solution": false,
     "task": false
    }
   },
   "outputs": [],
   "source": [
    "g = gradient_function(X_m_ss, y, theta)\n",
    "\n",
    "assert np.allclose(np.round(g, 2), np.array([-0.12, -0.81,  0.28, -0.71])), 'Неверный ответ'"
   ]
  },
  {
   "cell_type": "markdown",
   "metadata": {
    "colab_type": "text",
    "deletable": false,
    "editable": false,
    "id": "oekJ8Dggw_6n",
    "nbgrader": {
     "cell_type": "markdown",
     "checksum": "a9c49564c1753eeb541f42c7cb1a0102",
     "grade": false,
     "grade_id": "cell-e9daec7cea3aecde",
     "locked": true,
     "schema_version": 3,
     "solution": false,
     "task": false
    }
   },
   "source": [
    "## 6. Алгоритм градиентного спуска\n",
    "\n",
    "\n",
    "На вход функции передается вектор значений коэффициента $\\Theta$ размера $(m+1, )$, и матрица $\\mathbf{X}$ размера $(N, m+1)$ с полиномиальными признаками, вектор-столбец $\\mathbf{y}$ c реальными значениями, размера $(N, )$, значение коэффициента альфа $\\alpha$ и число $iters$ равное количеству итераций в алгоритме. \n",
    "\n",
    "Сам алгоритм мы будем использовать в следующем виде:\n",
    "* Повторить $iters$ раз:\n",
    "\n",
    "&nbsp;&nbsp;&nbsp;&nbsp;&nbsp;&nbsp; $\\Theta = \\Theta - \\alpha \\cdot \\nabla Loss(\\Theta)$\n",
    "\n",
    "Где $\\nabla Loss(\\Theta)$ - это градиент, который мы научились рассчитывать в предыдущем задании. "
   ]
  },
  {
   "cell_type": "markdown",
   "metadata": {
    "colab_type": "text",
    "deletable": false,
    "editable": false,
    "id": "j69rgl_Nw_6o",
    "nbgrader": {
     "cell_type": "markdown",
     "checksum": "f539e7e9c3f6ec3f65b4cedcf719836c",
     "grade": false,
     "grade_id": "cell-64f5485533d31666",
     "locked": true,
     "schema_version": 3,
     "solution": false,
     "task": false
    }
   },
   "source": [
    "На входе:\n",
    "\n",
    "* Массив $X$ размера $(N, m+1)$: тип numpy.ndarray\n",
    "\n",
    "* Массив реальных выходных значений $y$ размера $(N, )$: тип numpy.ndarray\n",
    "\n",
    "* Массив $\\Theta_{init}$ размера $(m+1, )$. Начальное значение коэффициента: тип numpy.ndarray\n",
    "\n",
    "* Коэффициент обучения $\\alpha$: тип float\n",
    "\n",
    "* Количество итераций алгоритма $iter$: тип int\n",
    "\n",
    "Выходное значение:\n",
    "\n",
    "* Массив $\\Theta$ размера $(m+1, )$ полученный методом градиентного спуска: тип numpy.ndarray "
   ]
  },
  {
   "cell_type": "code",
   "execution_count": 29,
   "metadata": {
    "colab": {},
    "colab_type": "code",
    "deletable": false,
    "id": "Y2Cond-Xw_6o",
    "nbgrader": {
     "cell_type": "code",
     "checksum": "08b4abb8134372dea421e8e9b4f8ee56",
     "grade": false,
     "grade_id": "cell-f5768557843af7d5",
     "locked": false,
     "schema_version": 3,
     "solution": true,
     "task": false
    }
   },
   "outputs": [],
   "source": [
    "def gradient_descent(X, y, theta_init, alpha, iters):\n",
    "    theta = np.copy(theta_init)\n",
    "    for i in range(0, iters):\n",
    "        theta = theta - alpha * gradient_function(X, y, theta)\n",
    "    \n",
    "    return theta"
   ]
  },
  {
   "cell_type": "code",
   "execution_count": 30,
   "metadata": {
    "deletable": false,
    "editable": false,
    "nbgrader": {
     "cell_type": "code",
     "checksum": "34fbba8c2573e83cd610481c5c0ad477",
     "grade": true,
     "grade_id": "cell-c694814eefd1ff68",
     "locked": true,
     "points": 4,
     "schema_version": 3,
     "solution": false,
     "task": false
    }
   },
   "outputs": [],
   "source": [
    "theta_init = np.array([1.5, 0, 1, 1])  \n",
    "theta_opt = gradient_descent(X_m_ss, y, theta_init, alpha=0.1, iters=1000)\n",
    "\n",
    "assert np.allclose(np.round(theta_opt, 2), np.array([ 2.85,  2.45,  2.72, 10.47])), 'Неверный ответ'"
   ]
  },
  {
   "cell_type": "markdown",
   "metadata": {
    "colab_type": "text",
    "deletable": false,
    "editable": false,
    "id": "jANQ3GnFw_6q",
    "nbgrader": {
     "cell_type": "markdown",
     "checksum": "76382169d9f6483e31f31587654f8027",
     "grade": false,
     "grade_id": "cell-6c93f4e15aa50127",
     "locked": true,
     "schema_version": 3,
     "solution": false,
     "task": false
    }
   },
   "source": [
    "## 7. Посмотреть что получилось\n",
    "\n",
    "Если все прошло успешно, запустите ячейку ниже и насладитесь магией Data Science :) "
   ]
  },
  {
   "cell_type": "code",
   "execution_count": 31,
   "metadata": {
    "colab": {
     "base_uri": "https://localhost:8080/",
     "height": 607
    },
    "colab_type": "code",
    "deletable": false,
    "editable": false,
    "id": "nc6rgg4Ow_6r",
    "nbgrader": {
     "cell_type": "code",
     "checksum": "54f2100bef0bf8d9b45ad02fb2bd9f99",
     "grade": false,
     "grade_id": "cell-1a7ecb3fbdf35c7a",
     "locked": true,
     "schema_version": 3,
     "solution": false,
     "task": false
    },
    "outputId": "9e4e7064-3a9e-46a2-f7e1-9541607159f6"
   },
   "outputs": [
    {
     "name": "stderr",
     "output_type": "stream",
     "text": [
      "findfont: Font family ['Verdana'] not found. Falling back to DejaVu Sans.\n"
     ]
    },
    {
     "data": {
      "image/png": "[encoded data removed]",
      "text/plain": [
       "<Figure size 720x720 with 1 Axes>"
      ]
     },
     "metadata": {
      "needs_background": "light"
     },
     "output_type": "display_data"
    }
   ],
   "source": [
    "plot_poly_hw_results(X_m_ss, y, theta_init, theta_opt, means, stds)"
   ]
  },
  {
   "cell_type": "code",
   "execution_count": null,
   "metadata": {},
   "outputs": [],
   "source": []
  }
 ],
 "metadata": {
  "anaconda-cloud": {},
  "colab": {
   "name": "Homework_5.ipynb",
   "provenance": [],
   "toc_visible": true
  },
  "kernelspec": {
   "display_name": "Python 3",
   "language": "python",
   "name": "python3"
  },
  "language_info": {
   "codemirror_mode": {
    "name": "ipython",
    "version": 3
   },
   "file_extension": ".py",
   "mimetype": "text/x-python",
   "name": "python",
   "nbconvert_exporter": "python",
   "pygments_lexer": "ipython3",
   "version": "3.7.3"
  }
 },
 "nbformat": 4,
 "nbformat_minor": 1
}
