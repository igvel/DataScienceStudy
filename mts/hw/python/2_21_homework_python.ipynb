{
 "cells": [
  {
   "cell_type": "markdown",
   "metadata": {
    "deletable": false,
    "editable": false,
    "nbgrader": {
     "cell_type": "markdown",
     "checksum": "261f03774504655a5470fe37c081f379",
     "grade": false,
     "grade_id": "cell-0cb0d9edcb17f8f2",
     "locked": true,
     "schema_version": 3,
     "solution": false,
     "task": false
    }
   },
   "source": [
    "# Домашнее задание\n"
   ]
  },
  {
   "cell_type": "markdown",
   "metadata": {
    "deletable": false,
    "editable": false,
    "nbgrader": {
     "cell_type": "markdown",
     "checksum": "7d121637967ee8b7cf92df6d5040d2d2",
     "grade": false,
     "grade_id": "cell-85fe4eb56a57bf8e",
     "locked": true,
     "schema_version": 3,
     "solution": false,
     "task": false
    }
   },
   "source": [
    "**1.** В папке с домашним заданием находится модуль mymodule, импортируйте его и вызовите функцию hello."
   ]
  },
  {
   "cell_type": "code",
   "execution_count": 1,
   "metadata": {
    "deletable": false,
    "nbgrader": {
     "cell_type": "code",
     "checksum": "026be33abec198ba71998f5e92e8128a",
     "grade": false,
     "grade_id": "cell-dc683677294cc842",
     "locked": false,
     "schema_version": 3,
     "solution": true,
     "task": false
    }
   },
   "outputs": [
    {
     "name": "stdout",
     "output_type": "stream",
     "text": [
      "hello, world\n"
     ]
    }
   ],
   "source": [
    "import mymodule\n",
    "mymodule.hello()"
   ]
  },
  {
   "cell_type": "markdown",
   "metadata": {
    "deletable": false,
    "editable": false,
    "nbgrader": {
     "cell_type": "markdown",
     "checksum": "3e6ae7d8b93bdec38a8a0730ddbe3b3a",
     "grade": false,
     "grade_id": "cell-23ac9f57b1b854f2",
     "locked": true,
     "schema_version": 3,
     "solution": false,
     "task": false
    }
   },
   "source": [
    "**2.** Посчитайте синус угла 0.34 (в радианах), для этого можно воспользоваться библиотекой math. Импортируйте её и вызовите функцию для вычисления синуса. Присвойте значение синуса 0.34 переменной х."
   ]
  },
  {
   "cell_type": "code",
   "execution_count": 2,
   "metadata": {
    "deletable": false,
    "editable": false,
    "nbgrader": {
     "cell_type": "code",
     "checksum": "7f28c52fcb86d9a8be2744c46cfda9fc",
     "grade": false,
     "grade_id": "cell-0b250625f8b7a77b",
     "locked": true,
     "schema_version": 3,
     "solution": false,
     "task": false
    }
   },
   "outputs": [],
   "source": [
    "x = 0"
   ]
  },
  {
   "cell_type": "code",
   "execution_count": 3,
   "metadata": {
    "deletable": false,
    "nbgrader": {
     "cell_type": "code",
     "checksum": "9cbd300d3484bb5d635383c137a5bfe2",
     "grade": false,
     "grade_id": "cell-24f5311033684282",
     "locked": false,
     "schema_version": 3,
     "solution": true,
     "task": false
    }
   },
   "outputs": [],
   "source": [
    "import math\n",
    "x = math.sin(0.34)"
   ]
  },
  {
   "cell_type": "code",
   "execution_count": 4,
   "metadata": {
    "deletable": false,
    "editable": false,
    "nbgrader": {
     "cell_type": "code",
     "checksum": "90a911540fbd97113c7c0d952a70595f",
     "grade": true,
     "grade_id": "cell-512ff4c3f4ffca65",
     "locked": true,
     "points": 1,
     "schema_version": 3,
     "solution": false,
     "task": false
    }
   },
   "outputs": [],
   "source": [
    "assert (x > 0)"
   ]
  },
  {
   "cell_type": "markdown",
   "metadata": {
    "deletable": false,
    "editable": false,
    "nbgrader": {
     "cell_type": "markdown",
     "checksum": "59821e96eefef1d6170424973d51fcbe",
     "grade": false,
     "grade_id": "cell-76084d2c15eda11a",
     "locked": true,
     "schema_version": 3,
     "solution": false,
     "task": false
    }
   },
   "source": [
    "**3.** Создайте функцию is_prime(x), которая проверяет является ли натуральное число x простым. Возвращает True - если x простое, False - иначе.\n",
    "\n",
    "Будьте внимательны! Подумайте о тех случаях, когда может возникнуть бесконечный цикл."
   ]
  },
  {
   "cell_type": "code",
   "execution_count": 5,
   "metadata": {
    "deletable": false,
    "nbgrader": {
     "cell_type": "code",
     "checksum": "1dc2599b5661b5cd696d1bc3de6dc26e",
     "grade": false,
     "grade_id": "cell-f4e253f23592c55f",
     "locked": false,
     "schema_version": 3,
     "solution": true,
     "task": false
    }
   },
   "outputs": [],
   "source": [
    "import math\n",
    "def is_prime(x):\n",
    "    if(x <= 1):\n",
    "        return False\n",
    "    if(x <= 3):\n",
    "        return True\n",
    "    if(x % 2 == 0 or x % 3 == 0):\n",
    "        return False\n",
    "    for i in range(5, math.ceil(math.sqrt(x))):\n",
    "        if(x % i == 0):\n",
    "            return False\n",
    "    return True"
   ]
  },
  {
   "cell_type": "code",
   "execution_count": 6,
   "metadata": {
    "deletable": false,
    "editable": false,
    "nbgrader": {
     "cell_type": "code",
     "checksum": "6d42c3a146b9b852519cfddabf5f2966",
     "grade": true,
     "grade_id": "cell-be6d8735cdb44437",
     "locked": true,
     "points": 2,
     "schema_version": 3,
     "solution": false,
     "task": false
    }
   },
   "outputs": [],
   "source": [
    "# assert (is_prime(1) == False) # Перед тем, как раскомментировать и выполнить этот тест, убедитесь, что не возникнет бесконечного цикла!\n",
    "assert (is_prime(2) == True)\n",
    "assert (is_prime(4) == False)\n",
    "assert (is_prime(9) == False)\n",
    "assert (is_prime(11) == True)"
   ]
  },
  {
   "cell_type": "markdown",
   "metadata": {
    "deletable": false,
    "editable": false,
    "nbgrader": {
     "cell_type": "markdown",
     "checksum": "12bf7ec9bb562c4fa1a56f50df4625b1",
     "grade": false,
     "grade_id": "cell-c0b43d784f5a157d",
     "locked": true,
     "schema_version": 3,
     "solution": false,
     "task": false
    }
   },
   "source": [
    "**4.** Пользователь делает вклад в размере $x$ рублей сроком на $n$ лет под 8% годовых (каждый год размер его вклада увеличивается на 8%. Эти деньги прибавляются к сумме вклада, и на них в следующем году тоже будут проценты).\n",
    "\n",
    "Написать функцию bank, принимающая аргументы $x$ и $n$, и возвращающую сумму, которая будет на счету пользователя."
   ]
  },
  {
   "cell_type": "code",
   "execution_count": 7,
   "metadata": {
    "deletable": false,
    "nbgrader": {
     "cell_type": "code",
     "checksum": "783f9b481f39f9c959faff14a7379ddf",
     "grade": false,
     "grade_id": "cell-9ee1275ffa6208c6",
     "locked": false,
     "schema_version": 3,
     "solution": true,
     "task": false
    }
   },
   "outputs": [],
   "source": [
    "def bank(x, n):\n",
    "    sum = x\n",
    "    for i in range(n):\n",
    "        sum = sum * 1.08\n",
    "    return sum"
   ]
  },
  {
   "cell_type": "code",
   "execution_count": 8,
   "metadata": {
    "deletable": false,
    "editable": false,
    "nbgrader": {
     "cell_type": "code",
     "checksum": "21ef03d8c0d65fa7a2ea1cbd9fb70935",
     "grade": true,
     "grade_id": "cell-d884635dcb461f8f",
     "locked": true,
     "points": 2,
     "schema_version": 3,
     "solution": false,
     "task": false
    }
   },
   "outputs": [],
   "source": [
    "assert (bank(100, 1) == 108)\n",
    "assert (bank(100, 10) - 215.8924997 < 0.0001)"
   ]
  },
  {
   "cell_type": "markdown",
   "metadata": {
    "deletable": false,
    "editable": false,
    "nbgrader": {
     "cell_type": "markdown",
     "checksum": "2ca0ba0b20a71766b68d0563cbdce048",
     "grade": false,
     "grade_id": "cell-40ac92cbd5142e11",
     "locked": true,
     "schema_version": 3,
     "solution": false,
     "task": false
    }
   },
   "source": [
    "**5.** Напишите функцию fio, которая преобразует строку, содержащую фамилию, имя и отчество человека (каждое слово с большой буквы), к форме <фамилия> <инициалы>.\n",
    "Пример: 'Иванов Иван Иванович' -> 'Иванов И.И.'"
   ]
  },
  {
   "cell_type": "code",
   "execution_count": 9,
   "metadata": {
    "deletable": false,
    "nbgrader": {
     "cell_type": "code",
     "checksum": "bcaa32a708bc5065937a733062f37a7d",
     "grade": false,
     "grade_id": "cell-dde3dbcf144ed6ee",
     "locked": false,
     "schema_version": 3,
     "solution": true,
     "task": false
    }
   },
   "outputs": [],
   "source": [
    "def fio(s):\n",
    "    terms = s.split()\n",
    "    return terms[0] + \" \" + terms[1][0] + \".\" + terms[2][0] + \".\""
   ]
  },
  {
   "cell_type": "code",
   "execution_count": 10,
   "metadata": {
    "deletable": false,
    "editable": false,
    "nbgrader": {
     "cell_type": "code",
     "checksum": "c6533d3cb0fb656d96b92fed07796266",
     "grade": true,
     "grade_id": "cell-48b920c68cd2b765",
     "locked": true,
     "points": 2,
     "schema_version": 3,
     "solution": false,
     "task": false
    }
   },
   "outputs": [],
   "source": [
    "assert(fio(\"Иванов Иван Иванович\") == 'Иванов И.И.')"
   ]
  },
  {
   "cell_type": "markdown",
   "metadata": {
    "deletable": false,
    "editable": false,
    "nbgrader": {
     "cell_type": "markdown",
     "checksum": "0fcdb7c31d4822e41cd724d91ca7a6f5",
     "grade": false,
     "grade_id": "cell-8691214a865fd441",
     "locked": true,
     "schema_version": 3,
     "solution": false,
     "task": false
    }
   },
   "source": [
    "**6.** Напишите функцию mult. На вход подается строка, имеющая вид \"$p_1$ * $p_2$ * ... * $p_n$\", где $p_i$ – цифра. Вычислите значение выражения.\n",
    "\n",
    "Пример: '2*3' -> 6"
   ]
  },
  {
   "cell_type": "code",
   "execution_count": 11,
   "metadata": {
    "deletable": false,
    "nbgrader": {
     "cell_type": "code",
     "checksum": "8a314a4eedc224f38f0caa633bbb9df6",
     "grade": false,
     "grade_id": "cell-6e52737964f74e8a",
     "locked": false,
     "schema_version": 3,
     "solution": true,
     "task": false
    }
   },
   "outputs": [],
   "source": [
    "def mult(s):\n",
    "    terms = s.split(\"*\")\n",
    "    res = 1\n",
    "    for n in terms:\n",
    "        res = res * int(n)\n",
    "    return res"
   ]
  },
  {
   "cell_type": "code",
   "execution_count": 12,
   "metadata": {
    "deletable": false,
    "editable": false,
    "nbgrader": {
     "cell_type": "code",
     "checksum": "7aaea45a52bc94bfb9fe0839c7de79b3",
     "grade": true,
     "grade_id": "cell-703b95080ab5fb6d",
     "locked": true,
     "points": 2,
     "schema_version": 3,
     "solution": false,
     "task": false
    }
   },
   "outputs": [],
   "source": [
    "assert(mult(\"5*2*3\") == 30)\n",
    "assert(mult(\"1*2*3\") == 6)"
   ]
  },
  {
   "cell_type": "markdown",
   "metadata": {
    "deletable": false,
    "editable": false,
    "nbgrader": {
     "cell_type": "markdown",
     "checksum": "ffec0b6d30e6b80117b3fe7e6fff6481",
     "grade": false,
     "grade_id": "cell-87504462634fd1a7",
     "locked": true,
     "schema_version": 3,
     "solution": false,
     "task": false
    }
   },
   "source": [
    "**7.** Проверьте своё понимание областей видимости попробовав угадать, что выведет следующий код."
   ]
  },
  {
   "cell_type": "code",
   "execution_count": 13,
   "metadata": {
    "deletable": false,
    "editable": false,
    "nbgrader": {
     "cell_type": "code",
     "checksum": "ae871fa43c743695fdc43fb3405d1851",
     "grade": false,
     "grade_id": "cell-269ce94e9df2ab26",
     "locked": true,
     "schema_version": 3,
     "solution": false,
     "task": false
    }
   },
   "outputs": [
    {
     "name": "stdout",
     "output_type": "stream",
     "text": [
      "a = 10\n",
      "b = 0\n",
      "c = 7\n",
      "d = [40, 31]\n",
      "local variable 'e' referenced before assignment\n"
     ]
    }
   ],
   "source": [
    "a = 10\n",
    "b = 20\n",
    "c = 30\n",
    "d = [40]\n",
    "e = 50\n",
    "\n",
    "def func(b=0):\n",
    "        print(f'a = {a}')\n",
    "        print(f'b = {b}')\n",
    "        c = 7\n",
    "        print(f'c = {c}')\n",
    "        d.append(31)\n",
    "        print(f'd = {d}')\n",
    "        try:\n",
    "            print(f'e = {e}')\n",
    "            e += 8\n",
    "        except Exception as ex:\n",
    "            print(ex)\n",
    "\n",
    "func()"
   ]
  },
  {
   "cell_type": "markdown",
   "metadata": {
    "deletable": false,
    "editable": false,
    "nbgrader": {
     "cell_type": "markdown",
     "checksum": "68ac40c5960780bb71ad7878b94ab3c9",
     "grade": false,
     "grade_id": "cell-8653c58e07ab3092",
     "locked": true,
     "schema_version": 3,
     "solution": false,
     "task": false
    }
   },
   "source": [
    "Ответьте на вопросы:\n",
    "\n",
    "1. Что будет выведено на экран и почему, если после вызова функции `func()` выполнить `print(c)`?\n",
    "2. Почему появилась ошибка? Исчезнет ли она, если `e += 8` заменить на `e = 8`? Исчезнет ли она, если `e += 8` выполнить до `print(f'e = {e}')`?  "
   ]
  },
  {
   "cell_type": "markdown",
   "metadata": {
    "deletable": false,
    "nbgrader": {
     "cell_type": "markdown",
     "checksum": "7556a8b9044ae8584d0ef4592835a5e1",
     "grade": true,
     "grade_id": "cell-9e3de693265b3248",
     "locked": false,
     "points": 2,
     "schema_version": 3,
     "solution": true,
     "task": false
    }
   },
   "source": [
    "1.30\n",
    "2. Попытка обращения к локальной переменной до ее объявления. Ошибка не исчезнет в обоих случаях, так как перед использованием локальную переменную нужно объявить, а e += 8 cразу же пытается ее читать."
   ]
  },
  {
   "cell_type": "code",
   "execution_count": 14,
   "metadata": {
    "deletable": false,
    "editable": false,
    "nbgrader": {
     "cell_type": "code",
     "checksum": "44e1ca2759e016517d1dfc30df167fc2",
     "grade": false,
     "grade_id": "cell-c3626e7891488e2e",
     "locked": true,
     "schema_version": 3,
     "solution": false,
     "task": false
    }
   },
   "outputs": [
    {
     "ename": "TypeError",
     "evalue": "'int' object is not callable",
     "output_type": "error",
     "traceback": [
      "\u001b[0;31m---------------------------------------------------------------------------\u001b[0m",
      "\u001b[0;31mTypeError\u001b[0m                                 Traceback (most recent call last)",
      "\u001b[0;32m<ipython-input-14-d2f87c4faea4>\u001b[0m in \u001b[0;36m<module>\u001b[0;34m\u001b[0m\n\u001b[1;32m      2\u001b[0m \u001b[0;31m# Не переопределяйте встроенные имена!\u001b[0m\u001b[0;34m\u001b[0m\u001b[0;34m\u001b[0m\u001b[0;34m\u001b[0m\u001b[0m\n\u001b[1;32m      3\u001b[0m \u001b[0mprint\u001b[0m \u001b[0;34m=\u001b[0m \u001b[0;36m5\u001b[0m\u001b[0;34m\u001b[0m\u001b[0;34m\u001b[0m\u001b[0m\n\u001b[0;32m----> 4\u001b[0;31m \u001b[0mprint\u001b[0m\u001b[0;34m(\u001b[0m\u001b[0mprint\u001b[0m\u001b[0;34m)\u001b[0m\u001b[0;34m\u001b[0m\u001b[0;34m\u001b[0m\u001b[0m\n\u001b[0m\u001b[1;32m      5\u001b[0m \u001b[0;31m# После выполнения этой ячейки вы не сможете впоспользоваться функцией print.\u001b[0m\u001b[0;34m\u001b[0m\u001b[0;34m\u001b[0m\u001b[0;34m\u001b[0m\u001b[0m\n\u001b[1;32m      6\u001b[0m \u001b[0;31m# Чтобы перезапустить окружение нажмите в верхней панели Kernel->Restart.\u001b[0m\u001b[0;34m\u001b[0m\u001b[0;34m\u001b[0m\u001b[0;34m\u001b[0m\u001b[0m\n",
      "\u001b[0;31mTypeError\u001b[0m: 'int' object is not callable"
     ]
    }
   ],
   "source": [
    "# Напоследок пример того как делать не надо.\n",
    "# Не переопределяйте встроенные имена!\n",
    "print = 5\n",
    "print(print)\n",
    "# После выполнения этой ячейки вы не сможете впоспользоваться функцией print.\n",
    "# Чтобы перезапустить окружение нажмите в верхней панели Kernel->Restart.\n",
    "# Весь код и выводы ячеек сохранятся."
   ]
  }
 ],
 "metadata": {
  "kernelspec": {
   "display_name": "Python 3",
   "language": "python",
   "name": "python3"
  },
  "language_info": {
   "codemirror_mode": {
    "name": "ipython",
    "version": 3
   },
   "file_extension": ".py",
   "mimetype": "text/x-python",
   "name": "python",
   "nbconvert_exporter": "python",
   "pygments_lexer": "ipython3",
   "version": "3.7.3"
  }
 },
 "nbformat": 4,
 "nbformat_minor": 4
}
