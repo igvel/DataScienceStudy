{
 "cells": [
  {
   "cell_type": "markdown",
   "metadata": {
    "deletable": false,
    "editable": false,
    "nbgrader": {
     "cell_type": "markdown",
     "checksum": "4dab368466d1648c8f5502651e593956",
     "grade": false,
     "grade_id": "cell-bbc6b416bd3bbdba",
     "locked": true,
     "schema_version": 3,
     "solution": false,
     "task": false
    }
   },
   "source": [
    "# Домашнее задание\n",
    "## Бинарная классификация и падение на Землю\n",
    "\n",
    "### Постановка задачи\n",
    "Давайте изучим способность линейного классификатора к детекции падающих на Землю космических объектов при баллистическом движении.\n",
    "\n",
    "Падающим считается объект, траектория которого в какой-то момент времени проходит на высоте меньшей, чем граница атмосферы (100 км).\n",
    "\n",
    "Вообще говоря, данная задача является \"сильно\" нелинейной и решается методом расчета элементов орбиты без привлечения машинного обучения, однако никто не мешает нам поставить задачу в форме классификации объектов с метками 0 - *не падает*, 1 - *падает*\n",
    "\n",
    "Ранее мы уже убедились, что нелинейные задачи классификации можно решать линейными методами лишь при построении новых - нелинейных - признаков.\n",
    "\n",
    "При выполнении данного домашнего задания Вам предстоит построить новые признаки.\n",
    "\n",
    "Данные представляют собой набор измерений векторов состояний космических объектов"
   ]
  },
  {
   "cell_type": "code",
   "execution_count": 1,
   "metadata": {
    "deletable": false,
    "editable": false,
    "nbgrader": {
     "cell_type": "code",
     "checksum": "03a5a85b434816ab021e7db3e90fb586",
     "grade": false,
     "grade_id": "cell-84b8d58bfb2e9e5d",
     "locked": true,
     "schema_version": 3,
     "solution": false,
     "task": false
    }
   },
   "outputs": [],
   "source": [
    "import numpy as np\n",
    "import matplotlib.pyplot as plt\n",
    "from sklearn.linear_model import LogisticRegression\n",
    "import pandas as pd\n",
    "from sklearn.model_selection import train_test_split\n",
    "from sklearn.metrics import roc_curve,auc, recall_score, precision_score, accuracy_score\n",
    "from sklearn.preprocessing import StandardScaler"
   ]
  },
  {
   "cell_type": "markdown",
   "metadata": {
    "deletable": false,
    "editable": false,
    "nbgrader": {
     "cell_type": "markdown",
     "checksum": "62488448ae641d150e6c7bfed973328a",
     "grade": false,
     "grade_id": "cell-bc940180d1ab287c",
     "locked": true,
     "schema_version": 3,
     "solution": false,
     "task": false
    }
   },
   "source": [
    "Определим все необходимые функции:"
   ]
  },
  {
   "cell_type": "code",
   "execution_count": 2,
   "metadata": {
    "deletable": false,
    "editable": false,
    "nbgrader": {
     "cell_type": "code",
     "checksum": "8db2ec8e16789d5c44d185be6c3f526c",
     "grade": false,
     "grade_id": "cell-d99853b2207d88d5",
     "locked": true,
     "schema_version": 3,
     "solution": false,
     "task": false
    }
   },
   "outputs": [],
   "source": [
    "def roc_auc_value(y_test, y_pred, showauc= True):\n",
    "    false_positive_rate, true_positive_rate, _ = roc_curve(y_test, y_pred)\n",
    "    roc_auc = round(auc(false_positive_rate, true_positive_rate),4)\n",
    "    \n",
    "    if showauc:\n",
    "        plt.plot(false_positive_rate, true_positive_rate)\n",
    "        plt.plot([0,1], [0,1])\n",
    "        plt.grid()\n",
    "        plt.title(f\"ROC-curve. ROC AUC={roc_auc}\")\n",
    "        plt.show()\n",
    "    return roc_auc\n",
    "\n",
    "def print_metrics(y_pred,y_test,showauc = True):\n",
    "\n",
    "    roc_auc = round(roc_auc_value(y_test, y_pred, showauc),5)\n",
    "    accuracy = round(accuracy_score(y_true=y_test.values,y_pred = y_pred > 0.5),3)\n",
    "    precision = round(precision_score(y_true=y_test.values,y_pred = y_pred > 0.5),3)\n",
    "    recall = round(recall_score(y_true=y_test.values,y_pred = y_pred > 0.5),3)\n",
    "    f1_score = round(2*recall*precision / (precision+recall),3)\n",
    "    \n",
    "    print(f'Остальные метрики:')\n",
    "    print(' '*5+f'accuracy: {accuracy}')\n",
    "    print(' '*5+f'precision: {precision}')\n",
    "    print(' '*5+f'recall: {recall}')\n",
    "    print(' '*5+f'f1-score: {f1_score}')\n",
    "    \n",
    "    return roc_auc"
   ]
  },
  {
   "cell_type": "markdown",
   "metadata": {
    "deletable": false,
    "editable": false,
    "nbgrader": {
     "cell_type": "markdown",
     "checksum": "a9e6af9c4f34780ee7dd9186bd5332d9",
     "grade": false,
     "grade_id": "cell-7d740637c9bd5828",
     "locked": true,
     "schema_version": 3,
     "solution": false,
     "task": false
    }
   },
   "source": [
    "Загрузим данные:"
   ]
  },
  {
   "cell_type": "code",
   "execution_count": 3,
   "metadata": {
    "deletable": false,
    "editable": false,
    "nbgrader": {
     "cell_type": "code",
     "checksum": "c6448b6fce40e75dd903c2b4d93bb155",
     "grade": false,
     "grade_id": "cell-47f66984b12bcb49",
     "locked": true,
     "schema_version": 3,
     "solution": false,
     "task": false
    }
   },
   "outputs": [],
   "source": [
    "train = pd.read_csv(\"train.csv\")\n",
    "test = pd.read_csv(\"test.csv\")"
   ]
  },
  {
   "cell_type": "code",
   "execution_count": 4,
   "metadata": {
    "deletable": false,
    "editable": false,
    "nbgrader": {
     "cell_type": "code",
     "checksum": "b497b649d5e29217a938612852578297",
     "grade": false,
     "grade_id": "cell-a5851fe6276c9afb",
     "locked": true,
     "schema_version": 3,
     "solution": false,
     "task": false
    }
   },
   "outputs": [
    {
     "data": {
      "text/html": [
       "<div>\n",
       "<style scoped>\n",
       "    .dataframe tbody tr th:only-of-type {\n",
       "        vertical-align: middle;\n",
       "    }\n",
       "\n",
       "    .dataframe tbody tr th {\n",
       "        vertical-align: top;\n",
       "    }\n",
       "\n",
       "    .dataframe thead th {\n",
       "        text-align: right;\n",
       "    }\n",
       "</style>\n",
       "<table border=\"1\" class=\"dataframe\">\n",
       "  <thead>\n",
       "    <tr style=\"text-align: right;\">\n",
       "      <th></th>\n",
       "      <th>X</th>\n",
       "      <th>Y</th>\n",
       "      <th>Z</th>\n",
       "      <th>dX</th>\n",
       "      <th>dY</th>\n",
       "      <th>dZ</th>\n",
       "      <th>threat</th>\n",
       "    </tr>\n",
       "  </thead>\n",
       "  <tbody>\n",
       "    <tr>\n",
       "      <th>0</th>\n",
       "      <td>-1784.074714</td>\n",
       "      <td>7530.654089</td>\n",
       "      <td>-7923.682494</td>\n",
       "      <td>7.960295</td>\n",
       "      <td>-8.734479</td>\n",
       "      <td>-2.338451</td>\n",
       "      <td>False</td>\n",
       "    </tr>\n",
       "    <tr>\n",
       "      <th>1</th>\n",
       "      <td>-4251.346313</td>\n",
       "      <td>3364.199632</td>\n",
       "      <td>5656.417484</td>\n",
       "      <td>3.672929</td>\n",
       "      <td>6.002698</td>\n",
       "      <td>-5.306253</td>\n",
       "      <td>True</td>\n",
       "    </tr>\n",
       "    <tr>\n",
       "      <th>2</th>\n",
       "      <td>8391.790633</td>\n",
       "      <td>-7548.946980</td>\n",
       "      <td>3564.884692</td>\n",
       "      <td>-8.131620</td>\n",
       "      <td>-7.709265</td>\n",
       "      <td>5.283694</td>\n",
       "      <td>False</td>\n",
       "    </tr>\n",
       "    <tr>\n",
       "      <th>3</th>\n",
       "      <td>-6018.748916</td>\n",
       "      <td>6334.845367</td>\n",
       "      <td>-1301.345691</td>\n",
       "      <td>9.797672</td>\n",
       "      <td>9.634480</td>\n",
       "      <td>-11.788118</td>\n",
       "      <td>False</td>\n",
       "    </tr>\n",
       "    <tr>\n",
       "      <th>4</th>\n",
       "      <td>6897.440983</td>\n",
       "      <td>6919.731273</td>\n",
       "      <td>8319.744778</td>\n",
       "      <td>2.277441</td>\n",
       "      <td>-4.172691</td>\n",
       "      <td>-4.843300</td>\n",
       "      <td>False</td>\n",
       "    </tr>\n",
       "  </tbody>\n",
       "</table>\n",
       "</div>"
      ],
      "text/plain": [
       "             X            Y            Z        dX        dY         dZ  \\\n",
       "0 -1784.074714  7530.654089 -7923.682494  7.960295 -8.734479  -2.338451   \n",
       "1 -4251.346313  3364.199632  5656.417484  3.672929  6.002698  -5.306253   \n",
       "2  8391.790633 -7548.946980  3564.884692 -8.131620 -7.709265   5.283694   \n",
       "3 -6018.748916  6334.845367 -1301.345691  9.797672  9.634480 -11.788118   \n",
       "4  6897.440983  6919.731273  8319.744778  2.277441 -4.172691  -4.843300   \n",
       "\n",
       "   threat  \n",
       "0   False  \n",
       "1    True  \n",
       "2   False  \n",
       "3   False  \n",
       "4   False  "
      ]
     },
     "execution_count": 4,
     "metadata": {},
     "output_type": "execute_result"
    }
   ],
   "source": [
    "train.head()"
   ]
  },
  {
   "cell_type": "markdown",
   "metadata": {
    "deletable": false,
    "editable": false,
    "nbgrader": {
     "cell_type": "markdown",
     "checksum": "2b819b84fdedefd683f9d9b005d2f5bd",
     "grade": false,
     "grade_id": "cell-0202214507406a6a",
     "locked": true,
     "schema_version": 3,
     "solution": false,
     "task": false
    }
   },
   "source": [
    "Обучающая и тестовая выборки:"
   ]
  },
  {
   "cell_type": "code",
   "execution_count": 5,
   "metadata": {
    "deletable": false,
    "editable": false,
    "nbgrader": {
     "cell_type": "code",
     "checksum": "f235826408be3796817065fac51eccc2",
     "grade": false,
     "grade_id": "cell-66d469797b996b55",
     "locked": true,
     "schema_version": 3,
     "solution": false,
     "task": false
    }
   },
   "outputs": [],
   "source": [
    "X_train, y_train = train[['X','Y','Z','dX','dY','dZ']], train[\"threat\"]\n",
    "X_test, y_test = test[['X','Y','Z','dX','dY','dZ']], test[\"threat\"]"
   ]
  },
  {
   "cell_type": "markdown",
   "metadata": {
    "deletable": false,
    "editable": false,
    "nbgrader": {
     "cell_type": "markdown",
     "checksum": "029928efa5cb261acf34dfb00b912303",
     "grade": false,
     "grade_id": "cell-ff2a62ceb5e4c1d2",
     "locked": true,
     "schema_version": 3,
     "solution": false,
     "task": false
    }
   },
   "source": [
    "### Задание 1\n",
    "Обучите логистическую регрессию на:\n",
    "1. чистых данных;\n",
    "2. нормализованных данных.\n",
    "\n",
    "Используйте LogisticRegression с настройками по умолчанию, либо как в следующей ячейке"
   ]
  },
  {
   "cell_type": "markdown",
   "metadata": {
    "deletable": false,
    "editable": false,
    "nbgrader": {
     "cell_type": "markdown",
     "checksum": "6c1862649e12a5ae34a8a0fbb9c9d2a3",
     "grade": false,
     "grade_id": "cell-a2cf2c5bf1da1f65",
     "locked": true,
     "schema_version": 3,
     "solution": false,
     "task": false
    }
   },
   "source": [
    "#### Чистые данные\n"
   ]
  },
  {
   "cell_type": "code",
   "execution_count": 6,
   "metadata": {
    "deletable": false,
    "nbgrader": {
     "cell_type": "code",
     "checksum": "13cc7beab4394d94a5db4c6c0619606e",
     "grade": false,
     "grade_id": "cell-b0b1bb9217becb4d",
     "locked": false,
     "schema_version": 3,
     "solution": true,
     "task": false
    }
   },
   "outputs": [
    {
     "data": {
      "image/png": "[encoded data removed]",
      "text/plain": [
       "<Figure size 432x288 with 1 Axes>"
      ]
     },
     "metadata": {
      "needs_background": "light"
     },
     "output_type": "display_data"
    },
    {
     "name": "stdout",
     "output_type": "stream",
     "text": [
      "Остальные метрики:\n",
      "     accuracy: 0.517\n",
      "     precision: 0.523\n",
      "     recall: 0.637\n",
      "     f1-score: 0.574\n"
     ]
    }
   ],
   "source": [
    "# Модель на чистых данных\n",
    "def preprocessing(X):\n",
    "    return\n",
    "model_0 = LogisticRegression(solver=\"newton-cg\")\n",
    "\n",
    "# Вызовите метод обучения \n",
    "model_0.fit(X_train, y_train)\n",
    "\n",
    "y_pred_LR = model_0.predict_proba(X_test)[:,1]\n",
    "roc_auc_0 = print_metrics(y_pred_LR,y_test)"
   ]
  },
  {
   "cell_type": "code",
   "execution_count": 7,
   "metadata": {
    "deletable": false,
    "editable": false,
    "nbgrader": {
     "cell_type": "code",
     "checksum": "d086b4d23b41d1d8e53c32e7c3f51d79",
     "grade": true,
     "grade_id": "cell-52ab69aebc5596ca",
     "locked": true,
     "points": 1,
     "schema_version": 3,
     "solution": false,
     "task": false
    }
   },
   "outputs": [],
   "source": [
    "# Скрытые тесты, которые будут выполнены после отправки решения."
   ]
  },
  {
   "cell_type": "markdown",
   "metadata": {
    "deletable": false,
    "editable": false,
    "nbgrader": {
     "cell_type": "markdown",
     "checksum": "a6edaf6429ab698bfe6ffd2b43ed39b7",
     "grade": false,
     "grade_id": "cell-e0bf1a91897539b7",
     "locked": true,
     "schema_version": 3,
     "solution": false,
     "task": false
    }
   },
   "source": [
    "Посмотрите на величину ROC AUC. Какие выводы можно сделать?"
   ]
  },
  {
   "cell_type": "markdown",
   "metadata": {
    "deletable": false,
    "editable": false,
    "nbgrader": {
     "cell_type": "markdown",
     "checksum": "351a0a4e7c23d9daeb86a6cfdeaa08fe",
     "grade": false,
     "grade_id": "cell-cc38a2627f1f9f69",
     "locked": true,
     "schema_version": 3,
     "solution": false,
     "task": false
    }
   },
   "source": [
    "#### Нормализованные данные"
   ]
  },
  {
   "cell_type": "markdown",
   "metadata": {
    "deletable": false,
    "editable": false,
    "nbgrader": {
     "cell_type": "markdown",
     "checksum": "e5cb862d76e4677a4c7aec0b716752f9",
     "grade": false,
     "grade_id": "cell-926671479cee034d",
     "locked": true,
     "schema_version": 3,
     "solution": false,
     "task": false
    }
   },
   "source": [
    "Здесь необходимо привести данные к нормализованному виду. \n",
    "Для нормализации данных используйте класс StandardScaler. По умолчанию StandardScaler приводит признаки к нулевому среднему и единичной дисперсии"
   ]
  },
  {
   "cell_type": "code",
   "execution_count": 8,
   "metadata": {
    "deletable": false,
    "nbgrader": {
     "cell_type": "code",
     "checksum": "c92cff38d1ee7018a52ae56a2bd2e959",
     "grade": false,
     "grade_id": "cell-8910016b1eed725b",
     "locked": false,
     "schema_version": 3,
     "solution": true,
     "task": false
    }
   },
   "outputs": [
    {
     "data": {
      "image/png": "[encoded data removed]",
      "text/plain": [
       "<Figure size 432x288 with 1 Axes>"
      ]
     },
     "metadata": {
      "needs_background": "light"
     },
     "output_type": "display_data"
    },
    {
     "name": "stdout",
     "output_type": "stream",
     "text": [
      "Остальные метрики:\n",
      "     accuracy: 0.517\n",
      "     precision: 0.523\n",
      "     recall: 0.637\n",
      "     f1-score: 0.574\n"
     ]
    }
   ],
   "source": [
    "def Scaler(X_train,X_test):\n",
    "    stdS = StandardScaler()\n",
    "    # Помните: на обучающей выборке мы сначала рассчитываем параметры нормализации, затем уже применяем их к выборке.\n",
    "    # На тестовой выборке мы сразу применяем полученные ранее параметры нормализации\n",
    "    X_train_n = stdS.fit_transform(X_train)\n",
    "    X_test_n = stdS.transform(X_test)\n",
    "    return X_train_n,X_test_n\n",
    "\n",
    "X_train_n,X_test_n = Scaler(X_train,X_test)\n",
    "\n",
    "model_1 = LogisticRegression(C = 30.3,solver=\"newton-cg\")\n",
    "\n",
    "#Вызовите метод обучения \n",
    "model_1.fit(X_train_n, y_train)\n",
    "\n",
    "y_pred_LR = model_1.predict_proba(X_test_n)[:,1]\n",
    "roc_auc_1 = print_metrics(y_pred_LR,y_test)"
   ]
  },
  {
   "cell_type": "code",
   "execution_count": 9,
   "metadata": {
    "deletable": false,
    "editable": false,
    "nbgrader": {
     "cell_type": "code",
     "checksum": "e85ec19bdaf0b56efe19be58e217a6c4",
     "grade": true,
     "grade_id": "cell-6d94cff57b24f004",
     "locked": true,
     "points": 1,
     "schema_version": 3,
     "solution": false,
     "task": false
    }
   },
   "outputs": [],
   "source": [
    "# Скрытые тесты, которые будут выполнены после отправки решения."
   ]
  },
  {
   "cell_type": "markdown",
   "metadata": {
    "deletable": false,
    "editable": false,
    "nbgrader": {
     "cell_type": "markdown",
     "checksum": "23f9fb77a53f7dc5e1f0f43138a07ee3",
     "grade": false,
     "grade_id": "cell-f7e90331841a4492",
     "locked": true,
     "schema_version": 3,
     "solution": false,
     "task": false
    }
   },
   "source": [
    "Изменилось ли значение ROC-AUC?"
   ]
  },
  {
   "cell_type": "markdown",
   "metadata": {
    "deletable": false,
    "editable": false,
    "nbgrader": {
     "cell_type": "markdown",
     "checksum": "bb8fec8845490c571826a0b52a56efe3",
     "grade": false,
     "grade_id": "cell-1fae2045181111aa",
     "locked": true,
     "schema_version": 3,
     "solution": false,
     "task": false
    }
   },
   "source": [
    "### Задание 2. Новые признаки"
   ]
  },
  {
   "cell_type": "markdown",
   "metadata": {
    "deletable": false,
    "editable": false,
    "nbgrader": {
     "cell_type": "markdown",
     "checksum": "bdc8afde1340870526a85f075e1083af",
     "grade": false,
     "grade_id": "cell-68b7adf86b693532",
     "locked": true,
     "schema_version": 3,
     "solution": false,
     "task": false
    }
   },
   "source": [
    "Как мы только что убедились, использование признаков такими, какими они есть, приводит к удручающему результату. \n",
    "Однако лекциях было показано, что в подобных случаях часто помогает генерация новых, например, полиномиальных признаков. Давайте попробуем сгенерировать квадратичные и кубические признаки "
   ]
  },
  {
   "cell_type": "code",
   "execution_count": 10,
   "metadata": {
    "deletable": false,
    "nbgrader": {
     "cell_type": "code",
     "checksum": "310be7559d23f63b7acd602e0e8631b5",
     "grade": false,
     "grade_id": "cell-f344b32cad41356d",
     "locked": false,
     "schema_version": 3,
     "solution": true,
     "task": false
    }
   },
   "outputs": [
    {
     "data": {
      "image/png": "[encoded data removed]",
      "text/plain": [
       "<Figure size 432x288 with 1 Axes>"
      ]
     },
     "metadata": {
      "needs_background": "light"
     },
     "output_type": "display_data"
    },
    {
     "name": "stdout",
     "output_type": "stream",
     "text": [
      "Остальные метрики:\n",
      "     accuracy: 0.667\n",
      "     precision: 0.668\n",
      "     recall: 0.693\n",
      "     f1-score: 0.68\n"
     ]
    }
   ],
   "source": [
    "def preprocessing(df_X):\n",
    "    X = df_X.copy()\n",
    "    X = pd.concat([X, X**2, X**3], axis=1)\n",
    "    return X\n",
    "\n",
    "X_train_pre = preprocessing(X_train)\n",
    "X_test_pre = preprocessing(X_test)\n",
    "\n",
    "X_train_n,X_test_n = Scaler(X_train_pre,X_test_pre)\n",
    "\n",
    "model_2 = LogisticRegression(C = 3.3,solver='lbfgs')\n",
    "\n",
    "#Вызовите метод обучения \n",
    "model_2.fit(X_train_n, y_train)\n",
    "\n",
    "y_pred_LR = model_2.predict_proba(X_test_n)[:,1]\n",
    "roc_auc_2 = print_metrics(y_pred_LR,y_test)"
   ]
  },
  {
   "cell_type": "code",
   "execution_count": 11,
   "metadata": {
    "deletable": false,
    "editable": false,
    "nbgrader": {
     "cell_type": "code",
     "checksum": "a8d57790d658f747c2ca69248981a9e9",
     "grade": true,
     "grade_id": "cell-bbd8bfecc32556d0",
     "locked": true,
     "points": 2,
     "schema_version": 3,
     "solution": false,
     "task": false
    }
   },
   "outputs": [],
   "source": [
    "# Скрытые тесты, которые будут выполнены после отправки решения."
   ]
  },
  {
   "cell_type": "markdown",
   "metadata": {
    "deletable": false,
    "editable": false,
    "nbgrader": {
     "cell_type": "markdown",
     "checksum": "46155c45430d6eac91887a121ecd0698",
     "grade": false,
     "grade_id": "cell-af531c80f219a36f",
     "locked": true,
     "schema_version": 3,
     "solution": false,
     "task": false
    }
   },
   "source": [
    "Обратите внимание на значение метрик."
   ]
  },
  {
   "cell_type": "markdown",
   "metadata": {
    "deletable": false,
    "editable": false,
    "nbgrader": {
     "cell_type": "markdown",
     "checksum": "72c59a60a3f537a8b88243f38a6c97d9",
     "grade": false,
     "grade_id": "cell-68c29a1669ca6e52",
     "locked": true,
     "schema_version": 3,
     "solution": false,
     "task": false
    }
   },
   "source": [
    "### Задание 3. Еще больше признаков\n",
    "\n",
    "Давайте попробуем добиться значения величины ROC AUC 0,8 и даже чуть больше.\n",
    "Для этого нам потребуется чуть больше разнообразных признаков.\n",
    "\n",
    "Остается вопрос, как именно генерировать признаки. Здесь может быть много разных рекомендаций, мы пойдем двумя путями:\n",
    "1. Понимание физической природы данных;\n",
    "2. Усиление взаимодействия между признаками.\n",
    "\n",
    "Эти два пути вполне могут привести к приблизительно одинаковым новым признакам.\n",
    "\n",
    "Понимание **физической** природы данных, вообще говоря, обеспечивает качество решения задачи классификации.\n",
    "\n",
    "В нашем случае эти данные - вектор координат и скоростей космического объекта, а метка - упал/не упал на Землю. Подкованный в баллистике человек сразу заметит, что такие признаки сами по себе не могут помочь в решении задачи классификации, а вот различные комбинации скоростей и координат уже могут нам помочь, так как именно комбинации по средством умножения скоростей и координат участвуют в вычислении различных параметров орбиты.\n",
    "\n",
    "Второй избранный нами путь - это **усиление** взамосвязей между признаками. Оно может быть оправдано следующими соображениями. После добавления полиномиальных признаков мы могли наблюдать существенное увеличение качества классификации. При это новые признаки генерировались независимо друг друга. А что произойдет, если новые признаки будут \"завязаны\" на нескольких исходных? Часто этим можно добиться довольно существенных результатов. Связь между признаками также предлагается взять как произведение.\n",
    "\n",
    "Задание состоит в генерации новых признаков таким образом, чтобы значительно улучшить предыдущее значение ROC AUC. Можно как угодно смешивать признаки, перемножать друг на друга, брать модули произведений, суммы квадратов и т.п."
   ]
  },
  {
   "cell_type": "code",
   "execution_count": 12,
   "metadata": {
    "deletable": false,
    "nbgrader": {
     "cell_type": "code",
     "checksum": "6a32d24ab38c4e635f1fc78309e746a0",
     "grade": false,
     "grade_id": "cell-fccbd13133aee880",
     "locked": false,
     "schema_version": 3,
     "solution": true,
     "task": false
    }
   },
   "outputs": [
    {
     "data": {
      "image/png": "[encoded data removed]",
      "text/plain": [
       "<Figure size 432x288 with 1 Axes>"
      ]
     },
     "metadata": {
      "needs_background": "light"
     },
     "output_type": "display_data"
    },
    {
     "name": "stdout",
     "output_type": "stream",
     "text": [
      "Остальные метрики:\n",
      "     accuracy: 0.722\n",
      "     precision: 0.727\n",
      "     recall: 0.733\n",
      "     f1-score: 0.73\n"
     ]
    }
   ],
   "source": [
    "def preprocessing(df_X):\n",
    "    \n",
    "    X = df_X.copy()\n",
    "    ### Ваша генерация признаков\n",
    "    X = pd.concat([\n",
    "                   abs(X[\"X\"]*X[\"dX\"]), abs(X[\"Y\"]*X[\"dY\"]), abs(X[\"Z\"]*X[\"dZ\"]), \n",
    "                   abs(X[\"X\"]*X[\"dY\"]), abs(X[\"X\"]*X[\"dZ\"]), abs(X[\"Y\"]*X[\"dX\"]), \n",
    "                   abs(X[\"Y\"]*X[\"dZ\"]), abs(X[\"Z\"]*X[\"dX\"]), abs(X[\"Z\"]*X[\"dY\"]), \n",
    "                   abs(X[\"X\"]*X[\"Y\"]*X[\"Z\"]),\n",
    "                   abs(X[\"dX\"]*X[\"dY\"]*X[\"dZ\"]),\n",
    "                   X[\"X\"]**2 + X[\"Y\"]**2 + X[\"Z\"]**2,\n",
    "                   abs(X[\"X\"]**3) + abs(X[\"Y\"]**3) + abs(X[\"Z\"]**3),\n",
    "                  ], axis=1)\n",
    "    return X\n",
    "\n",
    "X_train_pre = preprocessing(X_train).copy()\n",
    "X_test_pre = preprocessing(X_test).copy()\n",
    "\n",
    "X_train_n,X_test_n = Scaler(X_train_pre,X_test_pre)\n",
    "\n",
    "model_3 = LogisticRegression(C = 0.5,solver='lbfgs')\n",
    "\n",
    "#Вызовите метод обучения \n",
    "model_3.fit(X_train_n, y_train)\n",
    "\n",
    "y_pred_LR = model_3.predict_proba(X_test_n)[:,1]\n",
    "roc_auc_3 = print_metrics(y_pred_LR,y_test)"
   ]
  },
  {
   "cell_type": "code",
   "execution_count": 13,
   "metadata": {
    "deletable": false,
    "editable": false,
    "nbgrader": {
     "cell_type": "code",
     "checksum": "41580d5df094d05f537a63cadfc8c0ea",
     "grade": true,
     "grade_id": "cell-6b5a605a822d40b7",
     "locked": true,
     "points": 3,
     "schema_version": 3,
     "solution": false,
     "task": false
    }
   },
   "outputs": [],
   "source": [
    "# Скрытые тесты, которые будут выполнены после отправки решения."
   ]
  },
  {
   "cell_type": "markdown",
   "metadata": {
    "deletable": false,
    "editable": false,
    "nbgrader": {
     "cell_type": "markdown",
     "checksum": "cd8bbba3edb3e756b042b26bfa581b7c",
     "grade": false,
     "grade_id": "cell-9cac7d2b2d820a77",
     "locked": true,
     "schema_version": 3,
     "solution": false,
     "task": false
    }
   },
   "source": [
    "### Бонус\n",
    "\n",
    "Выполните следующие ячейки и посмотрите на ROC AUC и другие метрики. Обратите внимание, что обучение модели, которая называется lgbm, происходит на \"сырых\" данных. Это так называемый градиентный бустинг, и он значительно лучше логистической регрессии решает многие задачи классифкации. С моделями такого типа мы познакомимся в следующих частях нашего курса."
   ]
  },
  {
   "cell_type": "code",
   "execution_count": 14,
   "metadata": {
    "deletable": false,
    "editable": false,
    "nbgrader": {
     "cell_type": "code",
     "checksum": "028d4e1b47a051117fb56273b80eb9f7",
     "grade": false,
     "grade_id": "cell-be916318b9ae2821",
     "locked": true,
     "schema_version": 3,
     "solution": false,
     "task": false
    }
   },
   "outputs": [],
   "source": [
    "import lightgbm as lgb"
   ]
  },
  {
   "cell_type": "code",
   "execution_count": 15,
   "metadata": {
    "deletable": false,
    "editable": false,
    "nbgrader": {
     "cell_type": "code",
     "checksum": "cb6e1522f8d96e80b08db3a9287a4f4d",
     "grade": false,
     "grade_id": "cell-6b02393e65e5a98f",
     "locked": true,
     "schema_version": 3,
     "solution": false,
     "task": false
    }
   },
   "outputs": [],
   "source": [
    "dtrain = lgb.Dataset(X_train, label=y_train)\n",
    "dvalid = lgb.Dataset(X_test, y_test, reference=dtrain)"
   ]
  },
  {
   "cell_type": "code",
   "execution_count": 16,
   "metadata": {
    "deletable": false,
    "editable": false,
    "nbgrader": {
     "cell_type": "code",
     "checksum": "17f2eae1ae2e3d6ddc278a501b75922b",
     "grade": false,
     "grade_id": "cell-59dee04a98348da4",
     "locked": true,
     "schema_version": 3,
     "solution": false,
     "task": false
    }
   },
   "outputs": [
    {
     "name": "stdout",
     "output_type": "stream",
     "text": [
      "[LightGBM] [Info] Number of positive: 13616, number of negative: 13426\n",
      "[LightGBM] [Warning] Auto-choosing row-wise multi-threading, the overhead of testing was 0.000167 seconds.\n",
      "You can set `force_row_wise=true` to remove the overhead.\n",
      "And if memory is not enough, you can set `force_col_wise=true`.\n",
      "[LightGBM] [Info] Total Bins 1530\n",
      "[LightGBM] [Info] Number of data points in the train set: 27042, number of used features: 6\n",
      "[LightGBM] [Info] [binary:BoostFromScore]: pavg=0.503513 -> initscore=0.014052\n",
      "[LightGBM] [Info] Start training from score 0.014052\n",
      "[100]\ttraining's auc: 0.948637\tvalid_1's auc: 0.923593\n",
      "[200]\ttraining's auc: 0.982664\tvalid_1's auc: 0.961097\n",
      "[300]\ttraining's auc: 0.991776\tvalid_1's auc: 0.972712\n",
      "[400]\ttraining's auc: 0.995207\tvalid_1's auc: 0.977922\n",
      "[500]\ttraining's auc: 0.996994\tvalid_1's auc: 0.980829\n",
      "[600]\ttraining's auc: 0.998062\tvalid_1's auc: 0.982722\n",
      "[700]\ttraining's auc: 0.998683\tvalid_1's auc: 0.983908\n",
      "[800]\ttraining's auc: 0.999119\tvalid_1's auc: 0.984788\n",
      "[900]\ttraining's auc: 0.999426\tvalid_1's auc: 0.985416\n",
      "[1000]\ttraining's auc: 0.999612\tvalid_1's auc: 0.985886\n",
      "Обучился!\n"
     ]
    },
    {
     "data": {
      "image/png": "[encoded data removed]",
      "text/plain": [
       "<Figure size 432x288 with 1 Axes>"
      ]
     },
     "metadata": {
      "needs_background": "light"
     },
     "output_type": "display_data"
    },
    {
     "name": "stdout",
     "output_type": "stream",
     "text": [
      "Остальные метрики:\n",
      "     accuracy: 0.934\n",
      "     precision: 0.942\n",
      "     recall: 0.928\n",
      "     f1-score: 0.935\n"
     ]
    }
   ],
   "source": [
    "params = {'objective': 'binary',\n",
    "          'num_leaves': 50,\n",
    "          'feature_fraction': 0.9,\n",
    "          'bagging_fraction': 0.9,\n",
    "          'learning_rate':0.1,          \n",
    "          'lambda_l2': 100,\n",
    "          'metric':'auc',          \n",
    "          }\n",
    "    \n",
    "    # обучение модели\n",
    "num_trees = 1000\n",
    "lgbm = lgb.train(params.copy(),dtrain,num_boost_round = num_trees,valid_sets=[dtrain,dvalid],\n",
    "                      #evals_result=evals_result\n",
    "                      #,early_stopping_rounds=20\n",
    "                      verbose_eval = 100)\n",
    "\n",
    "print('Обучился!')\n",
    "\n",
    "y_pred_bst = lgbm.predict(X_test)\n",
    "roc_lgbm = print_metrics(y_pred_bst,y_test)"
   ]
  },
  {
   "cell_type": "code",
   "execution_count": null,
   "metadata": {},
   "outputs": [],
   "source": []
  }
 ],
 "metadata": {
  "kernelspec": {
   "display_name": "Python 3",
   "language": "python",
   "name": "python3"
  },
  "language_info": {
   "codemirror_mode": {
    "name": "ipython",
    "version": 3
   },
   "file_extension": ".py",
   "mimetype": "text/x-python",
   "name": "python",
   "nbconvert_exporter": "python",
   "pygments_lexer": "ipython3",
   "version": "3.7.3"
  }
 },
 "nbformat": 4,
 "nbformat_minor": 2
}
