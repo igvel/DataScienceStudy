{
 "cells": [
  {
   "cell_type": "markdown",
   "metadata": {
    "deletable": false,
    "editable": false,
    "nbgrader": {
     "cell_type": "markdown",
     "checksum": "f0eeada12cce881125ec9bfeef865539",
     "grade": false,
     "grade_id": "cell-8e397c2c0257f769",
     "locked": true,
     "schema_version": 3,
     "solution": false,
     "task": false
    }
   },
   "source": [
    "# Домашнее задание\n",
    "\n",
    "В данном задании предлагается решить несколько задач c помощью стандартных функций языка Python. Импортировать какие-либо библиотеки для выполнения заданий не требуется.\n",
    "Формат входных и выходных данных будет описан в условиях каждой задачи."
   ]
  },
  {
   "cell_type": "markdown",
   "metadata": {
    "deletable": false,
    "editable": false,
    "nbgrader": {
     "cell_type": "markdown",
     "checksum": "b126fbb1c46a841a294f73337c485247",
     "grade": false,
     "grade_id": "cell-8d0af6c15006ae97",
     "locked": true,
     "schema_version": 3,
     "solution": false,
     "task": false
    }
   },
   "source": [
    "**1.** Напишите функцию, которая меняет порядок слов в предложении на обратный. Вход строка из слов, выход: строка со словами в обратном порядке. Для упрощения на вход подается строка, которая не содержит знаков препинания."
   ]
  },
  {
   "cell_type": "code",
   "execution_count": 12,
   "metadata": {
    "deletable": false,
    "nbgrader": {
     "cell_type": "code",
     "checksum": "916d2ee2eac5496bada2ea13633972fa",
     "grade": false,
     "grade_id": "cell-4fd533c24fa05598",
     "locked": false,
     "schema_version": 3,
     "solution": true,
     "task": false
    }
   },
   "outputs": [],
   "source": [
    "def reverse_word(s):\n",
    "    words = s.split()\n",
    "    words.reverse()\n",
    "    return \" \".join(words)"
   ]
  },
  {
   "cell_type": "code",
   "execution_count": 13,
   "metadata": {
    "deletable": false,
    "editable": false,
    "nbgrader": {
     "cell_type": "code",
     "checksum": "46582a82b3a556c96e97e3ad7cc95f61",
     "grade": true,
     "grade_id": "cell-e459807e422a508c",
     "locked": true,
     "points": 2,
     "schema_version": 3,
     "solution": false,
     "task": false
    }
   },
   "outputs": [],
   "source": [
    "assert (reverse_word('Мама мыла раму') == 'раму мыла Мама')"
   ]
  },
  {
   "cell_type": "markdown",
   "metadata": {
    "deletable": false,
    "editable": false,
    "nbgrader": {
     "cell_type": "markdown",
     "checksum": "b0b4148f589aefbce1541c0ec8dc69d5",
     "grade": false,
     "grade_id": "cell-d3404dafd9a48d59",
     "locked": true,
     "schema_version": 3,
     "solution": false,
     "task": false
    }
   },
   "source": [
    "**2.** Напишите функцию, которая генерирует словарь в котором ключом является натуральное число $х$, а значением квадрат этого числа $x^2$. На вход функции подается число $n$ - количество пар в словаре, ключи словаря - последовательные натуральные число от 1 до $n$. Выход функции - словарь."
   ]
  },
  {
   "cell_type": "code",
   "execution_count": 19,
   "metadata": {
    "deletable": false,
    "nbgrader": {
     "cell_type": "code",
     "checksum": "57ea9e100cf9b52a2acc7676778a5eea",
     "grade": false,
     "grade_id": "cell-ead263b6212e872a",
     "locked": false,
     "schema_version": 3,
     "solution": true,
     "task": false
    }
   },
   "outputs": [],
   "source": [
    "def dict_squares(n):\n",
    "    result = {}\n",
    "    for i in range(1, n + 1):\n",
    "        result[i] = i * i\n",
    "    return result"
   ]
  },
  {
   "cell_type": "code",
   "execution_count": 20,
   "metadata": {
    "deletable": false,
    "editable": false,
    "nbgrader": {
     "cell_type": "code",
     "checksum": "a0892444ecfe956fd2ac22e20e218580",
     "grade": true,
     "grade_id": "cell-e7feadcff5905449",
     "locked": true,
     "points": 2,
     "schema_version": 3,
     "solution": false,
     "task": false
    }
   },
   "outputs": [],
   "source": [
    "assert (dict_squares(3) == dict({1:1, 2:4, 3:9}))"
   ]
  },
  {
   "cell_type": "markdown",
   "metadata": {
    "deletable": false,
    "editable": false,
    "nbgrader": {
     "cell_type": "markdown",
     "checksum": "25320f2a792796efabad45210f2decee",
     "grade": false,
     "grade_id": "cell-9eb8d6870797b817",
     "locked": true,
     "schema_version": 3,
     "solution": false,
     "task": false
    }
   },
   "source": [
    "**3.** Напишите функцию, которая принимает на вход натуральное число $n$. Функция возвращает список из натуральных делителей этого числа. Список отсортирован по возрастанию."
   ]
  },
  {
   "cell_type": "code",
   "execution_count": 23,
   "metadata": {
    "deletable": false,
    "nbgrader": {
     "cell_type": "code",
     "checksum": "b9a1f21f77cce843d7987a34420159da",
     "grade": false,
     "grade_id": "cell-856052d6f10345b4",
     "locked": false,
     "schema_version": 3,
     "solution": true,
     "task": false
    }
   },
   "outputs": [],
   "source": [
    "def divisors(n):\n",
    "    result = []\n",
    "    for i in range(1, n + 1):\n",
    "        if(n % i == 0):\n",
    "            result.append(i)\n",
    "    return result"
   ]
  },
  {
   "cell_type": "code",
   "execution_count": 24,
   "metadata": {
    "deletable": false,
    "editable": false,
    "nbgrader": {
     "cell_type": "code",
     "checksum": "8920024a2688a914c62142e90bf5a3bf",
     "grade": true,
     "grade_id": "cell-4fa27dc912c48192",
     "locked": true,
     "points": 2,
     "schema_version": 3,
     "solution": false,
     "task": false
    }
   },
   "outputs": [],
   "source": [
    "assert (divisors(44) == [1,2,4,11,22,44])\n",
    "assert (divisors(1) == [1])"
   ]
  },
  {
   "cell_type": "markdown",
   "metadata": {
    "deletable": false,
    "editable": false,
    "nbgrader": {
     "cell_type": "markdown",
     "checksum": "efe4aa64ee487fce148e1881a6dbe42d",
     "grade": false,
     "grade_id": "cell-e00690c094ab3179",
     "locked": true,
     "schema_version": 3,
     "solution": false,
     "task": false
    }
   },
   "source": [
    "**4.** (\\*) Напишите функцию, которая считает количество вхождений подстроки в строку. На вход подается два аргумента: строка и подстрока, вхождение которой необходимо определить. На выход возвращается 1 число - количество вхождений. **Замечание**: подстроки могут накладываться друг на друга, к примеру для входа: строка - \"ооо\", подстрока - \"оо\" верный ответ 2."
   ]
  },
  {
   "cell_type": "code",
   "execution_count": 31,
   "metadata": {
    "deletable": false,
    "nbgrader": {
     "cell_type": "code",
     "checksum": "298954ebf33395b21d56b34e49211b68",
     "grade": false,
     "grade_id": "cell-1a54a1eeb74231ce",
     "locked": false,
     "schema_version": 3,
     "solution": true,
     "task": false
    }
   },
   "outputs": [],
   "source": [
    "def pattern_occurrence(string, pattern):\n",
    "    start = 0\n",
    "    count = 0\n",
    "    while(start < len(string)):\n",
    "        pos = string.find(pattern, start)\n",
    "        if(pos != -1):\n",
    "            count = count + 1\n",
    "            start = pos + 1\n",
    "        else:\n",
    "            break\n",
    "        \n",
    "    return count"
   ]
  },
  {
   "cell_type": "code",
   "execution_count": 32,
   "metadata": {
    "deletable": false,
    "editable": false,
    "nbgrader": {
     "cell_type": "code",
     "checksum": "56243f6f6fdcd109cb1e72039ab17ee3",
     "grade": true,
     "grade_id": "cell-1f5b848784dd3e1f",
     "locked": true,
     "points": 2,
     "schema_version": 3,
     "solution": false,
     "task": false
    }
   },
   "outputs": [],
   "source": [
    "assert (pattern_occurrence('колокол', 'кол') == 2)\n",
    "assert (pattern_occurrence('ooo', 'oo') == 2)"
   ]
  },
  {
   "cell_type": "markdown",
   "metadata": {
    "deletable": false,
    "editable": false,
    "nbgrader": {
     "cell_type": "markdown",
     "checksum": "4a6b6aa1d1e03ef2435ef1cf02d6b629",
     "grade": false,
     "grade_id": "cell-e277028327869965",
     "locked": true,
     "schema_version": 3,
     "solution": false,
     "task": false
    }
   },
   "source": [
    "**5.** (\\*) Реализуйте функцию, которая принимает один аргумент число $n: n > 0$ и возвращает $n$-ое число Фибоначчи. Последовательность чисел Фибоначчи определяется формулой $F_n = F_{n-1} + F_{n-2}$, $F_1 = 1, F_2 = 1$. Каждое следующее число является суммой двух предыдущих. Реализация может быть рекурсивной, но это не обязательное условие."
   ]
  },
  {
   "cell_type": "code",
   "execution_count": 42,
   "metadata": {
    "deletable": false,
    "nbgrader": {
     "cell_type": "code",
     "checksum": "97481401b14c1cbefb43b51c44431480",
     "grade": false,
     "grade_id": "cell-f0b8274144f1d5ad",
     "locked": false,
     "schema_version": 3,
     "solution": true,
     "task": false
    }
   },
   "outputs": [],
   "source": [
    "def fib(n):\n",
    "    if(n < 3):\n",
    "        return 1\n",
    "    else:\n",
    "        return fib(n-1) + fib(n-2)"
   ]
  },
  {
   "cell_type": "code",
   "execution_count": 43,
   "metadata": {
    "deletable": false,
    "editable": false,
    "nbgrader": {
     "cell_type": "code",
     "checksum": "4c83e79bf52962edb3011089b235764d",
     "grade": true,
     "grade_id": "cell-04838228a4238ad8",
     "locked": true,
     "points": 2,
     "schema_version": 3,
     "solution": false,
     "task": false
    }
   },
   "outputs": [],
   "source": [
    "assert (fib(3) == 2)\n",
    "assert (fib(10) == 55)"
   ]
  },
  {
   "cell_type": "code",
   "execution_count": null,
   "metadata": {},
   "outputs": [],
   "source": []
  }
 ],
 "metadata": {
  "kernelspec": {
   "display_name": "Python 3",
   "language": "python",
   "name": "python3"
  },
  "language_info": {
   "codemirror_mode": {
    "name": "ipython",
    "version": 3
   },
   "file_extension": ".py",
   "mimetype": "text/x-python",
   "name": "python",
   "nbconvert_exporter": "python",
   "pygments_lexer": "ipython3",
   "version": "3.7.3"
  }
 },
 "nbformat": 4,
 "nbformat_minor": 4
}
